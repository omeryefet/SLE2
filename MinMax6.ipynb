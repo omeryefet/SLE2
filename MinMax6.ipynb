{
 "cells": [
  {
   "cell_type": "code",
   "execution_count": 1,
   "metadata": {},
   "outputs": [],
   "source": [
    "import numpy as np\n",
    "import pandas as pd\n",
    "import matplotlib\n",
    "import matplotlib.pyplot as plt\n",
    "import warnings\n",
    "warnings.filterwarnings(\"ignore\")\n",
    "from collections import defaultdict\n",
    "import random\n",
    "from numpy.random import choice\n",
    "random.seed(10)\n",
    "np.random.seed(10)\n",
    "import math\n",
    "%matplotlib inline"
   ]
  },
  {
   "cell_type": "markdown",
   "metadata": {},
   "source": [
    "### Load Data"
   ]
  },
  {
   "cell_type": "code",
   "execution_count": 2,
   "metadata": {},
   "outputs": [],
   "source": [
    "demands = pd.read_excel(open('demands22.xlsx', 'rb'))\n",
    "assuta_items = pd.read_excel(\"Assuta_items.xlsx\")\n",
    "refresh = pd.read_excel(\"refresh.xlsx\")\n",
    "initial_inventory = pd.read_excel(\"Initial_inventory.xls\")\n",
    "daily_demands_22 = pd.read_excel(\"daily demands 22.xlsx\")\n",
    "volumes = pd.read_excel(\"volume.xlsx\")"
   ]
  },
  {
   "cell_type": "markdown",
   "metadata": {},
   "source": [
    "### Pre Processing"
   ]
  },
  {
   "cell_type": "code",
   "execution_count": 4,
   "metadata": {},
   "outputs": [],
   "source": [
    "# fill nulls, rename, merge, slicing\n",
    "\n",
    "demands.fillna(0,inplace=True)\n",
    "demands.rename(columns = {f'{demands.columns[0]}':'SKU_ID'}, inplace = True)\n",
    "\n",
    "assuta_items = pd.DataFrame(assuta_items.iloc[:,0])\n",
    "\n",
    "refresh.fillna(0,inplace=True)\n",
    "\n",
    "initial_inventory = initial_inventory.loc[:,['SKU','Total Qty']]\n",
    "initial_inventory.rename(columns = {f'{initial_inventory.columns[0]}':'SKU_ID',f'{initial_inventory.columns[1]}':'Total Qty'}, inplace = True)\n",
    "\n",
    "daily_demands_22.rename(columns = {f'{daily_demands_22.columns[0]}':'SKU_ID'}, inplace = True)\n",
    "daily_demands_22.fillna(0,inplace=True)\n",
    "\n",
    "volumes = volumes.iloc[:,:2]\n",
    "volumes.rename(columns = {f'{volumes.columns[1]}':'volume'}, inplace = True)"
   ]
  },
  {
   "cell_type": "code",
   "execution_count": 5,
   "metadata": {},
   "outputs": [],
   "source": [
    "# Remove assuta items from the dataframe\n",
    "demands = demands[~demands[\"SKU_ID\"].isin(assuta_items[\"SKU_ID\"])]"
   ]
  },
  {
   "cell_type": "code",
   "execution_count": 7,
   "metadata": {},
   "outputs": [
    {
     "data": {
      "image/png": "[encoded data removed]",
      "text/plain": [
       "<Figure size 432x288 with 1 Axes>"
      ]
     },
     "metadata": {
      "needs_background": "light"
     },
     "output_type": "display_data"
    },
    {
     "name": "stdout",
     "output_type": "stream",
     "text": [
      "Group A includes 259 items\n"
     ]
    }
   ],
   "source": [
    "# Group A - 80% of the total demand\n",
    "demands['sum_demands'] = np.sum(demands, axis=1)\n",
    "demands_sum = demands.iloc[:,[0,-1]]\n",
    "demands.drop(['sum_demands'], axis=1, inplace=True)\n",
    "demands_sum.sort_values(by=['sum_demands'], ascending=False, inplace=True)\n",
    "\n",
    "demands_sum['cumsum'] = demands_sum['sum_demands'].cumsum()\n",
    "demands_sum['cumsum_perc'] = 100 * demands_sum['cumsum'] / demands_sum['sum_demands'].sum()\n",
    "\n",
    "# fig = plt.figure(dpi=60, figsize=(10, 7))\n",
    "plt.plot(np.arange(len(demands_sum['cumsum_perc'])),demands_sum['cumsum_perc'])\n",
    "# plt.xlabel = 'Longitude'\n",
    "# plt.ylabel = 'Latitude'\n",
    "# plt.title('xlabels() function')\n",
    "plt.show()\n",
    "demands_sum['Up_To'] = demands_sum['cumsum_perc'] <= 80\n",
    "good_sku_ids = demands_sum[demands_sum['Up_To']]\n",
    "a_list_sku_ids = good_sku_ids['SKU_ID']\n",
    "print(f'Group A includes {len(list(a_list_sku_ids))} items')"
   ]
  },
  {
   "cell_type": "code",
   "execution_count": 8,
   "metadata": {},
   "outputs": [],
   "source": [
    "# Leave the SKU id's demands of group A\n",
    "demands = demands[demands[\"SKU_ID\"].isin(list(a_list_sku_ids))]"
   ]
  },
  {
   "cell_type": "code",
   "execution_count": 11,
   "metadata": {},
   "outputs": [],
   "source": [
    "# Intersection of demands with all files\n",
    "demands = demands[demands['SKU_ID'].isin(initial_inventory[\"SKU_ID\"])]\n",
    "demands = demands[demands['SKU_ID'].isin(daily_demands_22[\"SKU_ID\"])]\n",
    "demands = demands[demands['SKU_ID'].isin(refresh[\"SKU_ID\"])]\n",
    "demands = demands[demands['SKU_ID'].isin(volumes[\"SKU_ID\"])]"
   ]
  },
  {
   "cell_type": "code",
   "execution_count": 13,
   "metadata": {},
   "outputs": [],
   "source": [
    "# Make 3 lists - less (r<9.5), good (9.5<r>10.5), more (r>10.5) while r is the number of refreshes per month\n",
    "refresh['mean'] = np.mean(refresh.iloc[:,1:].to_numpy(),axis=1)\n",
    "sku_ids_0to95 = list(refresh[(refresh['mean']>=0)&(refresh['mean']<9.5)]['SKU_ID'])\n",
    "sku_ids_95to105 = list(refresh[(refresh['mean']>=9.5)&(refresh['mean']<=10.5)]['SKU_ID'])\n",
    "sku_ids_over105 = list(refresh[refresh['mean']>10.5]['SKU_ID'])"
   ]
  },
  {
   "cell_type": "code",
   "execution_count": 14,
   "metadata": {},
   "outputs": [
    {
     "data": {
      "image/png": "[encoded data removed]",
      "text/plain": [
       "<Figure size 720x360 with 1 Axes>"
      ]
     },
     "metadata": {
      "needs_background": "light"
     },
     "output_type": "display_data"
    }
   ],
   "source": [
    "hist = refresh['mean'].hist(bins=10,grid=False,figsize=[10,5],legend=True)"
   ]
  },
  {
   "cell_type": "code",
   "execution_count": 15,
   "metadata": {},
   "outputs": [
    {
     "name": "stdout",
     "output_type": "stream",
     "text": [
      "The number of relevant sku_ids is: 234\n"
     ]
    }
   ],
   "source": [
    "lst1 = list(demands['SKU_ID']) # create a list of our SKU IDs\n",
    "lst2 = sku_ids_0to95 + sku_ids_over105 # create a list of SKU IDs with an unsatisfactory amount of refreshes\n",
    "relevant_sku_ids = list(set(lst1) & set(lst2)) # sku_ids of products that are not good (less or more)\n",
    "print(f'The number of relevant sku_ids is: {len(relevant_sku_ids)}')"
   ]
  },
  {
   "cell_type": "code",
   "execution_count": 16,
   "metadata": {},
   "outputs": [],
   "source": [
    "demands = demands[demands['SKU_ID'].isin(relevant_sku_ids)]\n",
    "initial_inventory = initial_inventory[initial_inventory['SKU_ID'].isin(relevant_sku_ids)]\n",
    "daily_demands_22 = daily_demands_22[daily_demands_22['SKU_ID'].isin(relevant_sku_ids)]\n",
    "refresh = refresh[refresh['SKU_ID'].isin(relevant_sku_ids)]\n",
    "volumes = volumes[volumes['SKU_ID'].isin(relevant_sku_ids)]"
   ]
  },
  {
   "cell_type": "code",
   "execution_count": 17,
   "metadata": {},
   "outputs": [
    {
     "data": {
      "text/html": [
       "<div>\n",
       "<style scoped>\n",
       "    .dataframe tbody tr th:only-of-type {\n",
       "        vertical-align: middle;\n",
       "    }\n",
       "\n",
       "    .dataframe tbody tr th {\n",
       "        vertical-align: top;\n",
       "    }\n",
       "\n",
       "    .dataframe thead th {\n",
       "        text-align: right;\n",
       "    }\n",
       "</style>\n",
       "<table border=\"1\" class=\"dataframe\">\n",
       "  <thead>\n",
       "    <tr style=\"text-align: right;\">\n",
       "      <th></th>\n",
       "      <th>SKU_ID</th>\n",
       "      <th>1</th>\n",
       "      <th>2</th>\n",
       "      <th>3</th>\n",
       "      <th>4</th>\n",
       "      <th>5</th>\n",
       "      <th>6</th>\n",
       "    </tr>\n",
       "  </thead>\n",
       "  <tbody>\n",
       "    <tr>\n",
       "      <th>3</th>\n",
       "      <td>35383015</td>\n",
       "      <td>4099</td>\n",
       "      <td>3771</td>\n",
       "      <td>4174</td>\n",
       "      <td>3454</td>\n",
       "      <td>4056</td>\n",
       "      <td>3877</td>\n",
       "    </tr>\n",
       "    <tr>\n",
       "      <th>7</th>\n",
       "      <td>0FK30730</td>\n",
       "      <td>1425</td>\n",
       "      <td>0</td>\n",
       "      <td>8288</td>\n",
       "      <td>2779</td>\n",
       "      <td>3241</td>\n",
       "      <td>3321</td>\n",
       "    </tr>\n",
       "    <tr>\n",
       "      <th>9</th>\n",
       "      <td>0LK00120</td>\n",
       "      <td>10234</td>\n",
       "      <td>9854</td>\n",
       "      <td>9152</td>\n",
       "      <td>10049</td>\n",
       "      <td>3299</td>\n",
       "      <td>0</td>\n",
       "    </tr>\n",
       "    <tr>\n",
       "      <th>13</th>\n",
       "      <td>2AK01910</td>\n",
       "      <td>2187</td>\n",
       "      <td>2076</td>\n",
       "      <td>2629</td>\n",
       "      <td>1473</td>\n",
       "      <td>1386</td>\n",
       "      <td>1213</td>\n",
       "    </tr>\n",
       "    <tr>\n",
       "      <th>14</th>\n",
       "      <td>2AK04010</td>\n",
       "      <td>1285</td>\n",
       "      <td>902</td>\n",
       "      <td>1393</td>\n",
       "      <td>1506</td>\n",
       "      <td>1588</td>\n",
       "      <td>1456</td>\n",
       "    </tr>\n",
       "    <tr>\n",
       "      <th>...</th>\n",
       "      <td>...</td>\n",
       "      <td>...</td>\n",
       "      <td>...</td>\n",
       "      <td>...</td>\n",
       "      <td>...</td>\n",
       "      <td>...</td>\n",
       "      <td>...</td>\n",
       "    </tr>\n",
       "    <tr>\n",
       "      <th>2568</th>\n",
       "      <td>RB001342</td>\n",
       "      <td>17955</td>\n",
       "      <td>9652</td>\n",
       "      <td>8072</td>\n",
       "      <td>7074</td>\n",
       "      <td>7615</td>\n",
       "      <td>8100</td>\n",
       "    </tr>\n",
       "    <tr>\n",
       "      <th>2569</th>\n",
       "      <td>RB001359</td>\n",
       "      <td>3755</td>\n",
       "      <td>2358</td>\n",
       "      <td>1650</td>\n",
       "      <td>1810</td>\n",
       "      <td>171</td>\n",
       "      <td>0</td>\n",
       "    </tr>\n",
       "    <tr>\n",
       "      <th>2570</th>\n",
       "      <td>RB001597</td>\n",
       "      <td>4233</td>\n",
       "      <td>4667</td>\n",
       "      <td>1285</td>\n",
       "      <td>1050</td>\n",
       "      <td>1741</td>\n",
       "      <td>1796</td>\n",
       "    </tr>\n",
       "    <tr>\n",
       "      <th>2571</th>\n",
       "      <td>RB001603</td>\n",
       "      <td>11951</td>\n",
       "      <td>6000</td>\n",
       "      <td>5203</td>\n",
       "      <td>4497</td>\n",
       "      <td>4697</td>\n",
       "      <td>4704</td>\n",
       "    </tr>\n",
       "    <tr>\n",
       "      <th>2600</th>\n",
       "      <td>RB070615</td>\n",
       "      <td>1364</td>\n",
       "      <td>811</td>\n",
       "      <td>1835</td>\n",
       "      <td>1410</td>\n",
       "      <td>1663</td>\n",
       "      <td>1056</td>\n",
       "    </tr>\n",
       "  </tbody>\n",
       "</table>\n",
       "<p>234 rows × 7 columns</p>\n",
       "</div>"
      ],
      "text/plain": [
       "        SKU_ID      1     2     3      4     5     6\n",
       "3     35383015   4099  3771  4174   3454  4056  3877\n",
       "7     0FK30730   1425     0  8288   2779  3241  3321\n",
       "9     0LK00120  10234  9854  9152  10049  3299     0\n",
       "13    2AK01910   2187  2076  2629   1473  1386  1213\n",
       "14    2AK04010   1285   902  1393   1506  1588  1456\n",
       "...        ...    ...   ...   ...    ...   ...   ...\n",
       "2568  RB001342  17955  9652  8072   7074  7615  8100\n",
       "2569  RB001359   3755  2358  1650   1810   171     0\n",
       "2570  RB001597   4233  4667  1285   1050  1741  1796\n",
       "2571  RB001603  11951  6000  5203   4497  4697  4704\n",
       "2600  RB070615   1364   811  1835   1410  1663  1056\n",
       "\n",
       "[234 rows x 7 columns]"
      ]
     },
     "execution_count": 17,
     "metadata": {},
     "output_type": "execute_result"
    }
   ],
   "source": [
    "demands"
   ]
  },
  {
   "cell_type": "markdown",
   "metadata": {},
   "source": [
    "### Min Max"
   ]
  },
  {
   "cell_type": "code",
   "execution_count": 95,
   "metadata": {},
   "outputs": [],
   "source": [
    "# get the demands for the last year and the min,max values\n",
    "# return dictionary when the key is tuple of (sku_id,quarter number) and ......\n",
    "# the value is tuple of (min,max) like - {('FC038348', 1): (27, 54),('FC038348', 2): (296, 592),.....}\n",
    "def MinMax(demands,min,max):\n",
    "    copy = demands.copy()\n",
    "    columns = ['SKU_ID']\n",
    "    for i in range(2):\n",
    "        copy['Min'+str(i+1)] = (copy.iloc[:,i*3+1:i*3+4].mean(axis=1) / 22) * min\n",
    "        copy['Max'+str(i+1)] = (copy.iloc[:,i*3+1:i*3+4].mean(axis=1) / 22) * max\n",
    "        columns += ['Min'+str(i+1),'Max'+str(i+1)]\n",
    "    copy = copy.loc[:,columns]\n",
    "    dic = defaultdict(tuple)\n",
    "    for index, row in copy.iterrows():\n",
    "        for i in range(1,3):\n",
    "            row = list(row)\n",
    "            dic[(row[0],i)] = (row[2*i-1],row[2*i])\n",
    "    return dic"
   ]
  },
  {
   "cell_type": "markdown",
   "metadata": {},
   "source": [
    "### Simulation"
   ]
  },
  {
   "cell_type": "code",
   "execution_count": 96,
   "metadata": {},
   "outputs": [],
   "source": [
    "# transfer 'daily_demands_22' into a dictionary structure\n",
    "daily_demands_22_dic = defaultdict(list)\n",
    "for index, row in daily_demands_22.iterrows():\n",
    "    row = list(row)\n",
    "    daily_demands_22_dic[row[0]] = row[1:]"
   ]
  },
  {
   "cell_type": "code",
   "execution_count": 97,
   "metadata": {},
   "outputs": [],
   "source": [
    "# transfer 'initial_inventory' into a dictionary structure\n",
    "initial_inventory_dic = defaultdict(list)\n",
    "for index, row in initial_inventory.iterrows():\n",
    "    row = list(row)\n",
    "    initial_inventory_dic[row[0]] = row[1]"
   ]
  },
  {
   "cell_type": "code",
   "execution_count": 98,
   "metadata": {},
   "outputs": [],
   "source": [
    "# transfer 'volumes' into a dictionary structure\n",
    "volumes_dic = defaultdict(list)\n",
    "for index, row in volumes.iterrows():\n",
    "    row = list(row)\n",
    "    volumes_dic[row[0]] = row[1]"
   ]
  },
  {
   "cell_type": "code",
   "execution_count": 99,
   "metadata": {},
   "outputs": [],
   "source": [
    "# calculate how many units can be stored in each type of 'arkalit\n",
    "def calc_capacity_per_arkalit(daily_demands_22_dic,volumes_dic,high_volume, low_volume):\n",
    "    dic = defaultdict(dict)\n",
    "    items_sku_ids = list(daily_demands_22_dic.keys())\n",
    "    for item in items_sku_ids:\n",
    "        cur_vol = volumes_dic[item]\n",
    "        dic[item] = {'low_half':int((low_volume/2)/cur_vol), 'low_full':int(low_volume/cur_vol), 'high_half':int((high_volume/2)/cur_vol), 'high_full':int(high_volume/cur_vol)}\n",
    "    return dic\n",
    "capacity_per_arkalit = calc_capacity_per_arkalit(daily_demands_22_dic,volumes_dic,30000, 15000)"
   ]
  },
  {
   "cell_type": "code",
   "execution_count": 101,
   "metadata": {},
   "outputs": [],
   "source": [
    "# loading \n",
    "def loading (sku_id, quantity, arkaliot, inventory_dic):\n",
    "    global count_no_space\n",
    "    global count_refresh\n",
    "    effective_options = defaultdict(int) # initialize a new dictionary\n",
    "    flag = False\n",
    "    for (arkalit_type, num_of_free_arkaliot) in arkaliot.items(): # for every type of arkalit and its number of free units\n",
    "        capacity_of_item_arkalit = capacity_per_arkalit[sku_id][arkalit_type] # how many units of the items can be stored in one arkalit of the checked type\n",
    "        num_of_full_arkaliot = int(math.ceil(inventory_dic[sku_id][arkalit_type] / capacity_of_item_arkalit)) # how many arkaliot of this type are in use for the item\n",
    "        total_arkaliot = num_of_free_arkaliot + num_of_full_arkaliot # total number of arkaliot can be used for this sku_id\n",
    "        total_units = total_arkaliot * capacity_of_item_arkalit # number of item's units we can store within the arkaliot in use for it\n",
    "        total_units_possible = total_units - inventory_dic[sku_id][arkalit_type] # number of units we can add within the free space in the arkaliot in use for the item\n",
    "        if total_units_possible > 0: # if there is indeed free space for extra items within the arkaliot in use\n",
    "            effective_options[arkalit_type] = total_units_possible # add the type of arkalit and num of units we can add to the dict\n",
    "    while quantity > 0: # while there is a quantity of the item needed to be stored in the OSR\n",
    "        if not effective_options: # if there is no free space in any of the arkaliot used by this item\n",
    "            count_no_space += 1\n",
    "            break\n",
    "        else: # if there is any free space in any of the arkaliot used by this item\n",
    "            flag = True\n",
    "            arkalit_type = choice(list(effective_options.keys())) # ramdomly choose an arkalit type from the relevant options\n",
    "            possible_loading = effective_options[arkalit_type] # number of units we can add to the chosen arkalit type\n",
    "            if possible_loading > quantity: # if we can store all the units we need to this arkalit type + still have some free space\n",
    "                loading = quantity # store all the needed quantity\n",
    "                quantity = 0 \n",
    "                effective_options[arkalit_type] -= loading # reduce the units space we used from the dict\n",
    "            else: # if we can store less than what we need within this arkalit type or exactly the amount we need \n",
    "                loading = possible_loading # store everything we can\n",
    "                quantity -= possible_loading # reduce the stored amount from the quantity needed to be stored\n",
    "                del effective_options[arkalit_type] # remove the arkalit type from the possible options\n",
    "\n",
    "            last_inventory = inventory_dic[sku_id][arkalit_type]\n",
    "            new_inventory = last_inventory + loading # update the inventory dict with the amount we loaded into the OSR\n",
    "            capacity = capacity_per_arkalit[sku_id][arkalit_type]\n",
    "            added_arkaliot = int(math.ceil(new_inventory/capacity) - math.ceil(last_inventory/capacity)) # how many new arkaliot we needed for this storing  \n",
    "                \n",
    "            inventory_dic[sku_id][arkalit_type] = int(new_inventory)   \n",
    "            arkaliot[arkalit_type] -= added_arkaliot # reduce the arkaliot we used from the dict of free arkaliot \n",
    "    if flag:\n",
    "        count_refresh += 1"
   ]
  },
  {
   "cell_type": "code",
   "execution_count": 102,
   "metadata": {},
   "outputs": [],
   "source": [
    "def pull_out(sku_id,quantity,arkaliot,inventory_dic):\n",
    "    # effective_options = [k for (k, v) in inventory_dic[sku_id].items() if v > 0]\n",
    "    global count_no_inventory\n",
    "    global sum_no_inventory\n",
    "    while quantity > 0:\n",
    "        effective_options = [k for (k, v) in inventory_dic[sku_id].items() if v > 0] # all options for arkalit types containing the item\n",
    "        if not effective_options: # if there are no units of the item stored \n",
    "            count_no_inventory += 1\n",
    "            sum_no_inventory += quantity\n",
    "            break\n",
    "        # happens only if there are any effective options: \n",
    "        arkalit_type = choice(effective_options) # choose a random type of arkalit type \n",
    "        inventory = inventory_dic[sku_id][arkalit_type]\n",
    "        capacity = capacity_per_arkalit[sku_id][arkalit_type]\n",
    "        if inventory % capacity == 0: # if all of the arakliot holding the item are full\n",
    "            pull_out = capacity # pull out the amount of units in a full arkalit\n",
    "        else: # if there is at least 1 araklit holding the item that is not full\n",
    "            pull_out = int(inventory % capacity) # take all the items from the arkalit that is not full\n",
    "        if pull_out > quantity: # if the amount of units is larger than what is needed\n",
    "            pull_out = quantity # take only the amount we actually need and not more\n",
    "            quantity = 0 \n",
    "        else: # if the amount of units is not larger than what is needed\n",
    "            quantity -= pull_out # reduce the amount of units we pulled from the required quantity\n",
    "            arkaliot[arkalit_type] += 1 # update arkaliot dict with a free arkalit of the type we pulled from \n",
    "        inventory_dic[sku_id][arkalit_type] -= int(pull_out) # reduce the amount of units pulled from the inventory"
   ]
  },
  {
   "cell_type": "code",
   "execution_count": 103,
   "metadata": {},
   "outputs": [],
   "source": [
    "# calc initial inventory\n",
    "def calc_initial_inventory(daily_demands_22_dic, initial_inventory, capacity_per_arkalit, arkaliot):\n",
    "    inventory_dic = defaultdict(dict)\n",
    "    items_sku_ids = list(daily_demands_22_dic.keys())\n",
    "    options = ['low_half','low_full','high_half','high_full']\n",
    "    for item in items_sku_ids:\n",
    "        inventory_dic[item] = {i:0 for i in options}\n",
    "    for item in items_sku_ids:\n",
    "        # capacity = capacity_per_arkalit[item][arkalit_type]\n",
    "        inventory = initial_inventory[item]\n",
    "        loading (item, inventory, arkaliot, inventory_dic)\n",
    "    return inventory_dic\n",
    "\n",
    "# arkaliot = {'low_half':2*int(1383) ,'low_full':int(1476), 'high_half':2*int(3251), 'high_full':int(7247)}\n",
    "# calc_initial_inventory = initial_inventory(daily_demands_22_dic, initial_inventory_dic, capacity_per_arkalit,arkaliot)"
   ]
  },
  {
   "cell_type": "code",
   "execution_count": 104,
   "metadata": {},
   "outputs": [],
   "source": [
    "# calc 'others' volume\n",
    "demands_others = pd.read_excel(open('demands22.xlsx', 'rb'))\n",
    "volumes_others = pd.read_excel(\"volume.xlsx\")\n",
    "assuta_items = pd.read_excel(\"Assuta_items.xlsx\")\n",
    "\n",
    "demands_others.fillna(0,inplace = True)\n",
    "demands_others.rename(columns = {f'{demands_others.columns[0]}':'SKU_ID'}, inplace = True)\n",
    "volumes_others = volumes_others.iloc[:,:2]\n",
    "volumes_others.rename(columns = {f'{volumes_others.columns[1]}':'volume'}, inplace = True) # keep all items which don't belong to group A or Assuta\n",
    "assuta_items = pd.DataFrame(assuta_items.iloc[:,0])\n",
    "\n",
    "demands_others = demands_others[~demands_others.SKU_ID.isin(list(demands.SKU_ID))]\n",
    "demands_others = demands_others[~demands_others[\"SKU_ID\"].isin(assuta_items[\"SKU_ID\"])]\n",
    "\n",
    "demands_others['Max'] = (demands_others.mean(axis=1) / 22) * 6\n",
    "df = pd.merge(demands_others, volumes_others, on='SKU_ID', how='left')\n",
    "df = df[['SKU_ID','Max','volume']]\n",
    "low_half_others, low_full_others,high_full_others = 0,0,0\n",
    "for index, row in df.iterrows():\n",
    "    if row['volume'] > 15000:\n",
    "        high_full_others += math.ceil(row['Max']/math.floor(30000 / row['volume']))\n",
    "    elif row['volume'] > 7500:\n",
    "        low_full_others += math.ceil(row['Max']/math.floor(15000 / row['volume']))\n",
    "    elif row['volume'] > 0:\n",
    "        arkalit_type = choice(['full','half'])\n",
    "        if arkalit_type == 'full':\n",
    "            low_full_others += math.ceil(row['Max']/math.floor(15000 / row['volume']))\n",
    "            # low_full_others += int(row['Max']/max(1,math.floor(15000 / row['volume'])))\n",
    "        else:\n",
    "            low_half_others += math.ceil(row['Max']/math.floor(7500 / row['volume']))\n",
    "            # low_half_others += int(row['Max']/max(1,math.floor(7500 / row['volume'])))"
   ]
  },
  {
   "cell_type": "code",
   "execution_count": 105,
   "metadata": {},
   "outputs": [
    {
     "data": {
      "text/plain": [
       "(1860, 3675, 0)"
      ]
     },
     "execution_count": 105,
     "metadata": {},
     "output_type": "execute_result"
    }
   ],
   "source": [
    "low_full_others,low_half_others,high_full_others"
   ]
  },
  {
   "cell_type": "code",
   "execution_count": 106,
   "metadata": {},
   "outputs": [],
   "source": [
    "# # remove the 'others' volume (arkaliot)\n",
    "# def remove_other(arkaliot,low_full_others,low_half_others):\n",
    "#     if arkaliot['low_half'] < low_half_others:\n",
    "#         low_full_others += int(math.ceil(0.5 * (low_half_others - arkaliot['low_half'])))\n",
    "#         arkaliot['low_half'] = 0\n",
    "#     else:\n",
    "#         arkaliot['low_half'] -= low_half_others\n",
    "#     if arkaliot['low_full'] < low_full_others:\n",
    "#         if arkaliot['high_half'] >= low_full_others - arkaliot['low_full']:\n",
    "#             arkaliot['high_half'] -= low_full_others - arkaliot['low_full'] # reduce the rest from high half\n",
    "#         else:\n",
    "#             if arkaliot['high_full'] >= arkaliot['high_half'] - (low_full_others - arkaliot['low_full']):\n",
    "#                 arkaliot['high_full'] -= int(math.ceil(0.5 * (low_half_others - arkaliot['low_half'])))\n",
    "#         arkaliot['low_full'] = 0 # reduce all low full because we used them for 'others'\n",
    "\n",
    "#         if arkaliot['high_half'] < 0: # if we used more high half than available\n",
    "#             print(arkaliot['high_half']) \n",
    "#             arkaliot['high_full'] -= int(math.ceil(0.5 * - arkaliot['high_half'])) # use high full arkaliot instead of the missing ones\n",
    "#             arkaliot['high_half'] = 0\n",
    "#             if arkaliot['high_full'] < 0:\n",
    "#                 print('There are no arkaliots left')\n",
    "#     else:\n",
    "#         arkaliot['low_full'] -= low_full_others\n",
    "\n",
    "\n",
    "# # arkaliot = {'low_half':10 ,'low_full':15, 'high_half':1, 'high_full':7}\n",
    "# # low_half_others,low_full_others = (9,18)\n",
    "# # remove_other(arkaliot,low_full_others,low_half_others)\n",
    "\n",
    "# # proportion = 0.98 # the proportion of the OSR that can be uesd\n",
    "# # arkaliot = {'low_half':2*int(1383 * proportion) ,'low_full':int(1476 * proportion), 'high_half':2*int(3251 * proportion), 'high_full':int(7247 * proportion)}\n",
    "# # remove_other(arkaliot,low_full_others,low_half_others)"
   ]
  },
  {
   "cell_type": "code",
   "execution_count": 107,
   "metadata": {},
   "outputs": [],
   "source": [
    "# remove the 'others' volume (arkaliot)\n",
    "def remove_other(arkaliot,low_full_others,low_half_others,high_full_others):\n",
    "    arkaliot['low_half'] -= low_half_others\n",
    "    if arkaliot['low_half'] < 0:\n",
    "       low_full_others += int(math.ceil(0.5 * -arkaliot['low_half']))\n",
    "       arkaliot['low_half'] = 0\n",
    "    arkaliot['low_full'] -= low_full_others\n",
    "    if arkaliot['low_full'] < 0:\n",
    "        arkaliot['high_half'] -= -arkaliot['low_full']\n",
    "        arkaliot['low_full'] = 0\n",
    "        if arkaliot['high_half'] < 0: # if we used more high half than available\n",
    "            arkaliot['high_full'] -= int(math.ceil(0.5 * -arkaliot['high_half'])) # use high full arkaliot instead of the missing ones\n",
    "            arkaliot['high_half'] = 0\n",
    "            if arkaliot['high_full'] < 0:\n",
    "                arkaliot['high_full'] = 0\n",
    "                print('There are no arkaliots left')\n",
    "    arkaliot['high_full'] -= high_full_others\n",
    "        \n",
    "# arkaliot = {'low_half':5 ,'low_full':5, 'high_half':1, 'high_full':7}\n",
    "# low_half_others,low_full_others = (2,6)\n",
    "# high_full_others = 4\n",
    "# remove_other(arkaliot,low_full_others,low_half_others,high_full_others)\n",
    "# arkaliot\n",
    "\n",
    "# proportion = 0.98 # the proportion of the OSR that can be uesd\n",
    "# arkaliot = {'low_half':2*int(1383 * proportion) ,'low_full':int(1476 * proportion), 'high_half':2*int(3251 * proportion), 'high_full':int(7247 * proportion)}\n",
    "# remove_other(arkaliot,low_full_others,low_half_others)"
   ]
  },
  {
   "cell_type": "code",
   "execution_count": 108,
   "metadata": {},
   "outputs": [],
   "source": [
    "# # check if there is a free space in a specific type of arkalit\n",
    "# def check_place(sku_id,type_of_arkalit, number_of_units):\n",
    "#     capacity = 6\n",
    "#     # capacity = capacity_per_arkalit[sku_id][type_of_arkalit]\n",
    "#     return (int(number_of_units/capacity),number_of_units%capacity)"
   ]
  },
  {
   "cell_type": "code",
   "execution_count": 109,
   "metadata": {},
   "outputs": [],
   "source": [
    "# global count_no_space\n",
    "# global count_no_inventory\n",
    "# global sum_no_inventory\n",
    "# global count_refresh\n",
    "# count_no_space = 0 # counter of times we have exceeded the storage capacity\n",
    "# count_no_inventory = 0 # counter of times we dont have enough inventory to pull out\n",
    "# sum_no_inventory = 0 # how many units in total we couldnt pull out\n",
    "# count_refresh = 0 # counter of refreshes\n",
    "\n",
    "# proportion = 0.98 # the proportion of the OSR that can be uesd\n",
    "# arkaliot = {'low_half':2*int(1383 * proportion) ,'low_full':int(1476 * proportion), 'high_half':2*int(3251 * proportion), 'high_full':int(7247 * proportion)}\n",
    "# remove_other(arkaliot,low_full_others,low_half_others,high_full_others)\n",
    "\n",
    "# inventory_dic = calc_initial_inventory(daily_demands_22_dic, initial_inventory_dic, capacity_per_arkalit,arkaliot)\n",
    "\n",
    "# c=0\n",
    "# for i,j in inventory_dic.items():\n",
    "#     for k in j.values():\n",
    "#         if isinstance(k, float):\n",
    "#             c+=1\n",
    "# c"
   ]
  },
  {
   "cell_type": "code",
   "execution_count": 110,
   "metadata": {},
   "outputs": [],
   "source": [
    "# inventory_dic"
   ]
  },
  {
   "cell_type": "code",
   "execution_count": 111,
   "metadata": {},
   "outputs": [],
   "source": [
    "# capacity_per_arkalit['2CK13811']"
   ]
  },
  {
   "cell_type": "code",
   "execution_count": 112,
   "metadata": {},
   "outputs": [],
   "source": [
    "# inventory_dic['2CK13811']"
   ]
  },
  {
   "cell_type": "code",
   "execution_count": 113,
   "metadata": {},
   "outputs": [],
   "source": [
    "# arkaliot"
   ]
  },
  {
   "cell_type": "code",
   "execution_count": 114,
   "metadata": {},
   "outputs": [],
   "source": [
    "# loading ('2CK13811',10,arkaliot,inventory_dic)"
   ]
  },
  {
   "cell_type": "code",
   "execution_count": 115,
   "metadata": {},
   "outputs": [],
   "source": [
    "# inventory_dic"
   ]
  },
  {
   "cell_type": "code",
   "execution_count": 116,
   "metadata": {},
   "outputs": [],
   "source": [
    "# arkaliot"
   ]
  },
  {
   "cell_type": "code",
   "execution_count": 117,
   "metadata": {},
   "outputs": [],
   "source": [
    "# pull_out('2CK13811',171,arkaliot,inventory_dic)\n",
    "# inventory_dic"
   ]
  },
  {
   "cell_type": "code",
   "execution_count": 118,
   "metadata": {},
   "outputs": [],
   "source": [
    "# arkaliot"
   ]
  },
  {
   "cell_type": "code",
   "execution_count": 119,
   "metadata": {},
   "outputs": [],
   "source": [
    "def simulation (daily_demands:dict,initial_inventory:dict,volumes:dict,minmax:dict,capacity_per_arkalit:dict):\n",
    "    \n",
    "    days = len(daily_demands[list(daily_demands.keys())[0]]) # number of days we will run through\n",
    "    items_sku_ids = list(daily_demands.keys()) # list of sku ids\n",
    "    refresf_dic = {item:False for item in items_sku_ids} # initialize a dictionary with 'False' value for each sku id\n",
    "    \n",
    "    current_day = 0 # holds the day number in each iteration \n",
    "    current_quarter = 1 # holds the quarter number in each iteration\n",
    "    \n",
    "    global count_no_space\n",
    "    global count_no_inventory\n",
    "    global sum_no_inventory\n",
    "    global count_refresh\n",
    "    count_no_space = 0 # counter of times we have exceeded the storage capacity\n",
    "    count_no_inventory = 0 # counter of times we dont have enough inventory to pull out\n",
    "    sum_no_inventory = 0 # how many units in total we couldnt pull out\n",
    "    count_refresh = 0 # counter of refreshes\n",
    "    \n",
    "    proportion = 0.97 # the proportion of the OSR that can be used\n",
    "    arkaliot = {'low_half':2*int(1383 * proportion) ,'low_full':int(1476 * proportion), 'high_half':2*int(3251 * proportion), 'high_full':int(7247 * proportion)}\n",
    "    remove_other(arkaliot,low_full_others,low_half_others,high_full_others)\n",
    "    \n",
    "    inventory_dic = calc_initial_inventory(daily_demands, initial_inventory, capacity_per_arkalit,arkaliot)\n",
    "    \n",
    "    for day in range(days): # go through all days\n",
    "        total_volume = 0 # sum up the volumes per day\n",
    "        for item in items_sku_ids: # go through all items\n",
    "            if refresf_dic[item]: # check if refresh is required for the specific item\n",
    "                curr_inventory = sum(inventory_dic[item].values()) # current inventory\n",
    "                new_inventory = minmax[(item,current_quarter)][1] # refresh to maximum\n",
    "                loading(item,new_inventory-curr_inventory,arkaliot,inventory_dic)\n",
    "                refresf_dic[item] = False # after refreshing, change again the refresh requirement into 'False' \n",
    "            # item_volume = initial_inventory[item] * volumes[item] # calc the item volume based on the existing inventory and the volume per unit\n",
    "            # total_volume += item_volume # add the item volume to the total volume\n",
    "            \n",
    "            pull_out(item,daily_demands[item][day],arkaliot,inventory_dic) # update the inventory\n",
    "\n",
    "            if sum(inventory_dic[item].values()) < minmax[(item,current_quarter)][0]: # check if inventory is less than the minimum\n",
    "                refresf_dic[item] = True # change  the refresh requirement into 'True' \n",
    "                # count_refresh += 1 # add 1 to the refreshes counter\n",
    "\n",
    "        current_day += 1 # update the day counter\n",
    "        if current_day <= 90: current_quarter = 1 # change the quarter according to the day \n",
    "        else: current_quarter = 2 # change the quarter according to the day\n",
    "    return count_refresh,count_no_space,count_no_inventory,int(sum_no_inventory)"
   ]
  },
  {
   "cell_type": "code",
   "execution_count": 120,
   "metadata": {},
   "outputs": [],
   "source": [
    "# daily_demands_22_dic_copy = daily_demands_22_dic.copy()\n",
    "# initial_inventory_dic_copy = initial_inventory_dic.copy()\n",
    "# volumes_dic_copy = volumes_dic.copy()\n",
    "# minmax = MinMax(demands,3,6)\n",
    "# minmax_copy = minmax.copy()\n",
    "# simulation(daily_demands_22_dic_copy,initial_inventory_dic_copy,volumes_dic_copy,minmax_copy,capacity_per_arkalit)"
   ]
  },
  {
   "cell_type": "markdown",
   "metadata": {},
   "source": [
    "# Comparison"
   ]
  },
  {
   "cell_type": "code",
   "execution_count": 121,
   "metadata": {},
   "outputs": [
    {
     "name": "stderr",
     "output_type": "stream",
     "text": [
      "100%|██████████| 256/256 [04:44<00:00,  1.11s/it]\n",
      "100%|██████████| 256/256 [04:42<00:00,  1.10s/it]\n",
      "100%|██████████| 256/256 [22:41<00:00,  5.32s/it] \n",
      "100%|██████████| 256/256 [06:00<00:00,  1.41s/it]\n",
      "100%|██████████| 256/256 [05:56<00:00,  1.39s/it]\n",
      "100%|██████████| 256/256 [05:54<00:00,  1.38s/it]\n",
      "100%|██████████| 256/256 [05:54<00:00,  1.39s/it]\n",
      "100%|██████████| 256/256 [05:52<00:00,  1.38s/it]\n",
      "100%|██████████| 256/256 [06:01<00:00,  1.41s/it]\n",
      "100%|██████████| 9/9 [1:07:48<00:00, 452.07s/it]\n"
     ]
    }
   ],
   "source": [
    "# choose all min-max options\n",
    "min_options = [3,4]\n",
    "max_options = [4,5,6,8,10,12,15,18]\n",
    "# create all min-max combinations  \n",
    "under_10_minmax_options = [(i,j) for i in min_options for j in max_options if j > i and j <= 5] # 3 options\n",
    "under_minmax_dic = {k:MinMax(demands,k[0],k[1]) for k in under_10_minmax_options}\n",
    "over_10_minmax_options = [(i,j) for i in min_options for j in max_options if j > i and j >= 6] # 12 options\n",
    "over_minmax_dic = {k:MinMax(demands,k[0],k[1]) for k in over_10_minmax_options}\n",
    "\n",
    "# add quarter level\n",
    "under_10_minmax_options = [(i,j) for i in under_10_minmax_options for j in under_10_minmax_options] # 9 (3^2) options\n",
    "over_10_minmax_options = [(i,j) for i in over_10_minmax_options for j in over_10_minmax_options] # 144 (12^2) options\n",
    "\n",
    "# create min-max dictionary manually\n",
    "from tqdm import tqdm\n",
    "results = []\n",
    "for under in tqdm(under_10_minmax_options):\n",
    "    Q1_under_minmax = under[0]\n",
    "    Q2_under_minmax = under[1]\n",
    "    dic1 = {k:under_minmax_dic[Q1_under_minmax][k] for k in under_minmax_dic[Q1_under_minmax].keys() if k[1] == 1}\n",
    "    dic2 = {k:under_minmax_dic[Q2_under_minmax][k] for k in under_minmax_dic[Q2_under_minmax].keys() if k[1] == 2}\n",
    "    merge_dic_12 = dic1 | dic2\n",
    "    merge_dic_under = {k:merge_dic_12[k] for k in merge_dic_12.keys() if k[0] in sku_ids_0to95}\n",
    "    for over in tqdm(over_10_minmax_options):\n",
    "        Q1_over_minmax = over[0]\n",
    "        Q2_over_minmax = over[1]\n",
    "        dic3 = {k:over_minmax_dic[Q1_over_minmax][k] for k in over_minmax_dic[Q1_over_minmax].keys() if k[1] == 1}\n",
    "        dic4 = {k:over_minmax_dic[Q2_over_minmax][k] for k in over_minmax_dic[Q2_over_minmax].keys() if k[1] == 2}\n",
    "        merge_dic_34 = dic3 | dic4\n",
    "        merge_dic_over = {k:merge_dic_34[k] for k in merge_dic_34.keys() if k[0] in sku_ids_over105}\n",
    "        \n",
    "        minmax = merge_dic_12 | merge_dic_34\n",
    "        \n",
    "        daily_demands_22_dic_copy = daily_demands_22_dic.copy()\n",
    "        initial_inventory_dic_copy = initial_inventory_dic.copy()\n",
    "        volumes_dic_copy = volumes_dic.copy()\n",
    "        minmax_copy = minmax.copy()\n",
    "        result = simulation(daily_demands_22_dic_copy,initial_inventory_dic_copy,volumes_dic_copy,minmax_copy,capacity_per_arkalit)\n",
    "        results.append((Q1_under_minmax,Q2_under_minmax,Q1_over_minmax,Q2_over_minmax,result[0],result[1],result[2],result[3]))"
   ]
  },
  {
   "cell_type": "code",
   "execution_count": 122,
   "metadata": {},
   "outputs": [
    {
     "data": {
      "text/html": [
       "<div>\n",
       "<style scoped>\n",
       "    .dataframe tbody tr th:only-of-type {\n",
       "        vertical-align: middle;\n",
       "    }\n",
       "\n",
       "    .dataframe tbody tr th {\n",
       "        vertical-align: top;\n",
       "    }\n",
       "\n",
       "    .dataframe thead th {\n",
       "        text-align: right;\n",
       "    }\n",
       "</style>\n",
       "<table border=\"1\" class=\"dataframe\">\n",
       "  <thead>\n",
       "    <tr style=\"text-align: right;\">\n",
       "      <th></th>\n",
       "      <th>MinMax of Q1 (under 10)</th>\n",
       "      <th>MinMax of Q2 (under 10)</th>\n",
       "      <th>MinMax of Q1 (over 10)</th>\n",
       "      <th>MinMax of Q2 (over 10)</th>\n",
       "      <th>No. of refreshes</th>\n",
       "      <th>No. of no space</th>\n",
       "      <th>No. of no inventory</th>\n",
       "      <th>sum of missing units</th>\n",
       "    </tr>\n",
       "  </thead>\n",
       "  <tbody>\n",
       "    <tr>\n",
       "      <th>0</th>\n",
       "      <td>(3, 4)</td>\n",
       "      <td>(3, 4)</td>\n",
       "      <td>(3, 6)</td>\n",
       "      <td>(3, 6)</td>\n",
       "      <td>8169</td>\n",
       "      <td>0</td>\n",
       "      <td>241</td>\n",
       "      <td>129128</td>\n",
       "    </tr>\n",
       "    <tr>\n",
       "      <th>1</th>\n",
       "      <td>(3, 4)</td>\n",
       "      <td>(3, 4)</td>\n",
       "      <td>(3, 6)</td>\n",
       "      <td>(3, 8)</td>\n",
       "      <td>6832</td>\n",
       "      <td>0</td>\n",
       "      <td>219</td>\n",
       "      <td>120249</td>\n",
       "    </tr>\n",
       "    <tr>\n",
       "      <th>2</th>\n",
       "      <td>(3, 4)</td>\n",
       "      <td>(3, 4)</td>\n",
       "      <td>(3, 6)</td>\n",
       "      <td>(3, 10)</td>\n",
       "      <td>6199</td>\n",
       "      <td>0</td>\n",
       "      <td>198</td>\n",
       "      <td>113980</td>\n",
       "    </tr>\n",
       "    <tr>\n",
       "      <th>3</th>\n",
       "      <td>(3, 4)</td>\n",
       "      <td>(3, 4)</td>\n",
       "      <td>(3, 6)</td>\n",
       "      <td>(3, 12)</td>\n",
       "      <td>5799</td>\n",
       "      <td>0</td>\n",
       "      <td>183</td>\n",
       "      <td>110739</td>\n",
       "    </tr>\n",
       "    <tr>\n",
       "      <th>4</th>\n",
       "      <td>(3, 4)</td>\n",
       "      <td>(3, 4)</td>\n",
       "      <td>(3, 6)</td>\n",
       "      <td>(3, 15)</td>\n",
       "      <td>5477</td>\n",
       "      <td>0</td>\n",
       "      <td>177</td>\n",
       "      <td>102958</td>\n",
       "    </tr>\n",
       "    <tr>\n",
       "      <th>...</th>\n",
       "      <td>...</td>\n",
       "      <td>...</td>\n",
       "      <td>...</td>\n",
       "      <td>...</td>\n",
       "      <td>...</td>\n",
       "      <td>...</td>\n",
       "      <td>...</td>\n",
       "      <td>...</td>\n",
       "    </tr>\n",
       "    <tr>\n",
       "      <th>2299</th>\n",
       "      <td>(4, 5)</td>\n",
       "      <td>(4, 5)</td>\n",
       "      <td>(4, 24)</td>\n",
       "      <td>(4, 12)</td>\n",
       "      <td>2468</td>\n",
       "      <td>0</td>\n",
       "      <td>57</td>\n",
       "      <td>47413</td>\n",
       "    </tr>\n",
       "    <tr>\n",
       "      <th>2300</th>\n",
       "      <td>(4, 5)</td>\n",
       "      <td>(4, 5)</td>\n",
       "      <td>(4, 24)</td>\n",
       "      <td>(4, 15)</td>\n",
       "      <td>2166</td>\n",
       "      <td>0</td>\n",
       "      <td>56</td>\n",
       "      <td>47987</td>\n",
       "    </tr>\n",
       "    <tr>\n",
       "      <th>2301</th>\n",
       "      <td>(4, 5)</td>\n",
       "      <td>(4, 5)</td>\n",
       "      <td>(4, 24)</td>\n",
       "      <td>(4, 18)</td>\n",
       "      <td>1968</td>\n",
       "      <td>0</td>\n",
       "      <td>58</td>\n",
       "      <td>47847</td>\n",
       "    </tr>\n",
       "    <tr>\n",
       "      <th>2302</th>\n",
       "      <td>(4, 5)</td>\n",
       "      <td>(4, 5)</td>\n",
       "      <td>(4, 24)</td>\n",
       "      <td>(4, 21)</td>\n",
       "      <td>1808</td>\n",
       "      <td>0</td>\n",
       "      <td>54</td>\n",
       "      <td>43769</td>\n",
       "    </tr>\n",
       "    <tr>\n",
       "      <th>2303</th>\n",
       "      <td>(4, 5)</td>\n",
       "      <td>(4, 5)</td>\n",
       "      <td>(4, 24)</td>\n",
       "      <td>(4, 24)</td>\n",
       "      <td>1751</td>\n",
       "      <td>0</td>\n",
       "      <td>55</td>\n",
       "      <td>47258</td>\n",
       "    </tr>\n",
       "  </tbody>\n",
       "</table>\n",
       "<p>2304 rows × 8 columns</p>\n",
       "</div>"
      ],
      "text/plain": [
       "     MinMax of Q1 (under 10) MinMax of Q2 (under 10) MinMax of Q1 (over 10)  \\\n",
       "0                     (3, 4)                  (3, 4)                 (3, 6)   \n",
       "1                     (3, 4)                  (3, 4)                 (3, 6)   \n",
       "2                     (3, 4)                  (3, 4)                 (3, 6)   \n",
       "3                     (3, 4)                  (3, 4)                 (3, 6)   \n",
       "4                     (3, 4)                  (3, 4)                 (3, 6)   \n",
       "...                      ...                     ...                    ...   \n",
       "2299                  (4, 5)                  (4, 5)                (4, 24)   \n",
       "2300                  (4, 5)                  (4, 5)                (4, 24)   \n",
       "2301                  (4, 5)                  (4, 5)                (4, 24)   \n",
       "2302                  (4, 5)                  (4, 5)                (4, 24)   \n",
       "2303                  (4, 5)                  (4, 5)                (4, 24)   \n",
       "\n",
       "     MinMax of Q2 (over 10)  No. of refreshes  No. of no space  \\\n",
       "0                    (3, 6)              8169                0   \n",
       "1                    (3, 8)              6832                0   \n",
       "2                   (3, 10)              6199                0   \n",
       "3                   (3, 12)              5799                0   \n",
       "4                   (3, 15)              5477                0   \n",
       "...                     ...               ...              ...   \n",
       "2299                (4, 12)              2468                0   \n",
       "2300                (4, 15)              2166                0   \n",
       "2301                (4, 18)              1968                0   \n",
       "2302                (4, 21)              1808                0   \n",
       "2303                (4, 24)              1751                0   \n",
       "\n",
       "      No. of no inventory  sum of missing units  \n",
       "0                     241                129128  \n",
       "1                     219                120249  \n",
       "2                     198                113980  \n",
       "3                     183                110739  \n",
       "4                     177                102958  \n",
       "...                   ...                   ...  \n",
       "2299                   57                 47413  \n",
       "2300                   56                 47987  \n",
       "2301                   58                 47847  \n",
       "2302                   54                 43769  \n",
       "2303                   55                 47258  \n",
       "\n",
       "[2304 rows x 8 columns]"
      ]
     },
     "execution_count": 122,
     "metadata": {},
     "output_type": "execute_result"
    }
   ],
   "source": [
    "df = pd.DataFrame(results, columns=['MinMax of Q1 (under 10)', 'MinMax of Q2 (under 10)','MinMax of Q1 (over 10)', 'MinMax of Q2 (over 10)','No. of refreshes','No. of no space','No. of no inventory','sum of missing units'])\n",
    "df"
   ]
  },
  {
   "cell_type": "code",
   "execution_count": 123,
   "metadata": {},
   "outputs": [],
   "source": [
    "df.to_csv('results_new.csv', index=False)"
   ]
  },
  {
   "cell_type": "markdown",
   "metadata": {},
   "source": [
    "### ------------------------"
   ]
  },
  {
   "cell_type": "markdown",
   "metadata": {},
   "source": [
    "### Finish"
   ]
  },
  {
   "cell_type": "markdown",
   "metadata": {},
   "source": [
    "### ------------------------"
   ]
  }
 ],
 "metadata": {
  "kernelspec": {
   "display_name": "Python 3 (ipykernel)",
   "language": "python",
   "name": "python3"
  },
  "language_info": {
   "codemirror_mode": {
    "name": "ipython",
    "version": 3
   },
   "file_extension": ".py",
   "mimetype": "text/x-python",
   "name": "python",
   "nbconvert_exporter": "python",
   "pygments_lexer": "ipython3",
   "version": "3.9.13"
  },
  "vscode": {
   "interpreter": {
    "hash": "75bb06568c9d6172a953bbe8382d76fb637459502578ff2e7618bebf03e08899"
   }
  }
 },
 "nbformat": 4,
 "nbformat_minor": 2
}
