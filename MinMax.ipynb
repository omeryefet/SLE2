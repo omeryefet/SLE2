{
 "cells": [
  {
   "cell_type": "code",
   "execution_count": 72,
   "metadata": {},
   "outputs": [],
   "source": [
    "import numpy as np\n",
    "import pandas as pd\n",
    "import matplotlib\n",
    "import matplotlib.pyplot as plt\n",
    "import warnings\n",
    "warnings.filterwarnings(\"ignore\")\n",
    "from collections import defaultdict\n",
    "import random\n",
    "from numpy.random import choice\n",
    "random.seed(10)\n",
    "np.random.seed(10)\n",
    "import math\n",
    "%matplotlib inline"
   ]
  },
  {
   "cell_type": "markdown",
   "metadata": {},
   "source": [
    "### Load Data"
   ]
  },
  {
   "cell_type": "code",
   "execution_count": 73,
   "metadata": {},
   "outputs": [],
   "source": [
    "demands = pd.read_excel(open('demands21.xlsx', 'rb'))\n",
    "assuta_items = pd.read_excel(\"Assuta_items.xlsx\")\n",
    "refresh_21 = pd.read_excel(\"refresh21.xlsx\")\n",
    "refresh_22 = pd.read_excel(\"refresh22.xlsx\")\n",
    "initial_inventory = pd.read_excel(\"Initial_inventory.xls\")\n",
    "daily_demands_22 = pd.read_excel(\"daily demands 22.xlsx\")\n",
    "volumes = pd.read_excel(\"volume.xlsx\")"
   ]
  },
  {
   "cell_type": "markdown",
   "metadata": {},
   "source": [
    "### Pre Processing"
   ]
  },
  {
   "cell_type": "code",
   "execution_count": 74,
   "metadata": {},
   "outputs": [],
   "source": [
    "# fill nulls, rename, merge, slicing\n",
    "\n",
    "demands.fillna(0,inplace=True)\n",
    "\n",
    "assuta_items = pd.DataFrame(assuta_items.iloc[:,0])\n",
    "\n",
    "refresh_21.rename(columns = {f'{refresh_21.columns[0]}':'SKU_ID'}, inplace = True)\n",
    "refresh_22.rename(columns = {f'{refresh_22.columns[0]}':'SKU_ID'}, inplace = True)\n",
    "refresh = pd.merge(refresh_21, refresh_22, on ='SKU_ID', how ='inner')\n",
    "refresh.fillna(0,inplace=True)\n",
    "\n",
    "initial_inventory = initial_inventory.loc[:,['SKU','Total Qty']]\n",
    "initial_inventory.rename(columns = {f'{initial_inventory.columns[0]}':'SKU_ID',f'{initial_inventory.columns[1]}':'Total Qty'}, inplace = True)\n",
    "\n",
    "daily_demands_22.rename(columns = {f'{daily_demands_22.columns[0]}':'SKU_ID'}, inplace = True)\n",
    "daily_demands_22.fillna(0,inplace=True)\n",
    "\n",
    "volumes = volumes.iloc[:,:2]\n",
    "volumes.rename(columns = {f'{volumes.columns[1]}':'volume'}, inplace = True)"
   ]
  },
  {
   "cell_type": "code",
   "execution_count": 75,
   "metadata": {},
   "outputs": [],
   "source": [
    "# a = [i.month for i in list(refresh.iloc[:,1:].columns)]"
   ]
  },
  {
   "cell_type": "code",
   "execution_count": 76,
   "metadata": {},
   "outputs": [],
   "source": [
    "# Remove assuta items from the dataframe\n",
    "demands = demands[~demands[\"SKU_ID\"].isin(assuta_items[\"SKU_ID\"])]"
   ]
  },
  {
   "cell_type": "code",
   "execution_count": 77,
   "metadata": {},
   "outputs": [
    {
     "data": {
      "image/png": "[encoded data removed]",
      "text/plain": [
       "<Figure size 432x288 with 1 Axes>"
      ]
     },
     "metadata": {
      "needs_background": "light"
     },
     "output_type": "display_data"
    },
    {
     "name": "stdout",
     "output_type": "stream",
     "text": [
      "Group A includes 360 items\n"
     ]
    }
   ],
   "source": [
    "# Group A - 80% of the total demand\n",
    "demands['sum_demands'] = np.sum(demands, axis=1)\n",
    "demands_sum = demands.iloc[:,[0,-1]]\n",
    "demands.drop(['sum_demands'], axis=1, inplace=True)\n",
    "demands_sum.sort_values(by=['sum_demands'], ascending=False, inplace=True)\n",
    "\n",
    "demands_sum['cumsum'] = demands_sum['sum_demands'].cumsum()\n",
    "demands_sum['cumsum_perc'] = 100 * demands_sum['cumsum'] / demands_sum['sum_demands'].sum()\n",
    "\n",
    "# fig = plt.figure(dpi=60, figsize=(10, 7))\n",
    "plt.plot(np.arange(len(demands_sum['cumsum_perc'])),demands_sum['cumsum_perc'])\n",
    "# plt.xlabel = 'Longitude'\n",
    "# plt.ylabel = 'Latitude'\n",
    "# plt.title('xlabels() function')\n",
    "plt.show()\n",
    "demands_sum['Up_To'] = demands_sum['cumsum_perc'] <= 80\n",
    "good_sku_ids = demands_sum[demands_sum['Up_To']]\n",
    "a_list_sku_ids = good_sku_ids['SKU_ID']\n",
    "print(f'Group A includes {len(list(a_list_sku_ids))} items')"
   ]
  },
  {
   "cell_type": "code",
   "execution_count": 78,
   "metadata": {},
   "outputs": [],
   "source": [
    "# Leave the SKU id's demands of group A\n",
    "demands = demands[demands[\"SKU_ID\"].isin(list(a_list_sku_ids))]"
   ]
  },
  {
   "cell_type": "code",
   "execution_count": 79,
   "metadata": {},
   "outputs": [],
   "source": [
    "# Intersection of demands with all files\n",
    "demands = demands[demands['SKU_ID'].isin(initial_inventory[\"SKU_ID\"])]\n",
    "demands = demands[demands['SKU_ID'].isin(daily_demands_22[\"SKU_ID\"])]\n",
    "demands = demands[demands['SKU_ID'].isin(refresh[\"SKU_ID\"])]\n",
    "demands = demands[demands['SKU_ID'].isin(volumes[\"SKU_ID\"])]"
   ]
  },
  {
   "cell_type": "code",
   "execution_count": 80,
   "metadata": {},
   "outputs": [],
   "source": [
    "# Make 3 lists - less (r<9.5), good (9.5<r>10.5), more (r>10.5) while r is the number of refreshes per month\n",
    "refresh['mean'] = np.mean(refresh.iloc[:,1:].to_numpy(),axis=1)\n",
    "sku_ids_0to95 = list(refresh[(refresh['mean']>=0)&(refresh['mean']<9.5)]['SKU_ID'])\n",
    "sku_ids_95to105 = list(refresh[(refresh['mean']>=9.5)&(refresh['mean']<=10.5)]['SKU_ID'])\n",
    "sku_ids_over105 = list(refresh[refresh['mean']>10.5]['SKU_ID'])"
   ]
  },
  {
   "cell_type": "code",
   "execution_count": 81,
   "metadata": {},
   "outputs": [
    {
     "data": {
      "image/png": "[encoded data removed]",
      "text/plain": [
       "<Figure size 720x360 with 1 Axes>"
      ]
     },
     "metadata": {
      "needs_background": "light"
     },
     "output_type": "display_data"
    }
   ],
   "source": [
    "hist = refresh['mean'].hist(bins=10,grid=False,figsize=[10,5],legend=True)"
   ]
  },
  {
   "cell_type": "code",
   "execution_count": 82,
   "metadata": {},
   "outputs": [
    {
     "name": "stdout",
     "output_type": "stream",
     "text": [
      "The number of relevant sku_ids is: 226\n"
     ]
    }
   ],
   "source": [
    "lst1 = list(demands['SKU_ID']) # create a list of our SKU IDs\n",
    "lst2 = sku_ids_0to95 + sku_ids_over105 # create a list of SKU IDs with an unsatisfactory amount of refreshes\n",
    "relevant_sku_ids = list(set(lst1) & set(lst2)) # sku_ids of products that are not good (less or more)\n",
    "print(f'The number of relevant sku_ids is: {len(relevant_sku_ids)}')"
   ]
  },
  {
   "cell_type": "code",
   "execution_count": 83,
   "metadata": {},
   "outputs": [],
   "source": [
    "demands = demands[demands['SKU_ID'].isin(relevant_sku_ids)]\n",
    "initial_inventory = initial_inventory[initial_inventory['SKU_ID'].isin(relevant_sku_ids)]\n",
    "daily_demands_22 = daily_demands_22[daily_demands_22['SKU_ID'].isin(relevant_sku_ids)]\n",
    "refresh = refresh[refresh['SKU_ID'].isin(relevant_sku_ids)]\n",
    "volumes = volumes[volumes['SKU_ID'].isin(relevant_sku_ids)]"
   ]
  },
  {
   "cell_type": "code",
   "execution_count": 84,
   "metadata": {},
   "outputs": [
    {
     "data": {
      "text/html": [
       "<div>\n",
       "<style scoped>\n",
       "    .dataframe tbody tr th:only-of-type {\n",
       "        vertical-align: middle;\n",
       "    }\n",
       "\n",
       "    .dataframe tbody tr th {\n",
       "        vertical-align: top;\n",
       "    }\n",
       "\n",
       "    .dataframe thead th {\n",
       "        text-align: right;\n",
       "    }\n",
       "</style>\n",
       "<table border=\"1\" class=\"dataframe\">\n",
       "  <thead>\n",
       "    <tr style=\"text-align: right;\">\n",
       "      <th></th>\n",
       "      <th>SKU_ID</th>\n",
       "      <th>'01'</th>\n",
       "      <th>'02'</th>\n",
       "      <th>'03'</th>\n",
       "      <th>'04'</th>\n",
       "      <th>'05'</th>\n",
       "      <th>'06'</th>\n",
       "      <th>'07'</th>\n",
       "      <th>'08'</th>\n",
       "      <th>'09'</th>\n",
       "      <th>'10'</th>\n",
       "      <th>'11'</th>\n",
       "      <th>'12'</th>\n",
       "    </tr>\n",
       "  </thead>\n",
       "  <tbody>\n",
       "    <tr>\n",
       "      <th>12</th>\n",
       "      <td>FC038348</td>\n",
       "      <td>1874.0</td>\n",
       "      <td>1856.0</td>\n",
       "      <td>2234.0</td>\n",
       "      <td>2136.0</td>\n",
       "      <td>2126.0</td>\n",
       "      <td>2253.0</td>\n",
       "      <td>2080.0</td>\n",
       "      <td>2475.0</td>\n",
       "      <td>1929.0</td>\n",
       "      <td>2260.0</td>\n",
       "      <td>2286.0</td>\n",
       "      <td>2323.0</td>\n",
       "    </tr>\n",
       "    <tr>\n",
       "      <th>41</th>\n",
       "      <td>BI000161</td>\n",
       "      <td>1201.0</td>\n",
       "      <td>2345.0</td>\n",
       "      <td>527.0</td>\n",
       "      <td>758.0</td>\n",
       "      <td>1503.0</td>\n",
       "      <td>758.0</td>\n",
       "      <td>1162.0</td>\n",
       "      <td>1462.0</td>\n",
       "      <td>1844.0</td>\n",
       "      <td>1500.0</td>\n",
       "      <td>1880.0</td>\n",
       "      <td>1281.0</td>\n",
       "    </tr>\n",
       "    <tr>\n",
       "      <th>68</th>\n",
       "      <td>GS043189</td>\n",
       "      <td>240.0</td>\n",
       "      <td>2520.0</td>\n",
       "      <td>2112.0</td>\n",
       "      <td>12480.0</td>\n",
       "      <td>0.0</td>\n",
       "      <td>1632.0</td>\n",
       "      <td>3192.0</td>\n",
       "      <td>2592.0</td>\n",
       "      <td>1800.0</td>\n",
       "      <td>4056.0</td>\n",
       "      <td>5352.0</td>\n",
       "      <td>3936.0</td>\n",
       "    </tr>\n",
       "    <tr>\n",
       "      <th>71</th>\n",
       "      <td>RAK00001</td>\n",
       "      <td>2499.0</td>\n",
       "      <td>1720.0</td>\n",
       "      <td>4996.0</td>\n",
       "      <td>2305.0</td>\n",
       "      <td>3228.0</td>\n",
       "      <td>5141.0</td>\n",
       "      <td>3504.0</td>\n",
       "      <td>3714.0</td>\n",
       "      <td>2504.0</td>\n",
       "      <td>2946.0</td>\n",
       "      <td>3411.0</td>\n",
       "      <td>4773.0</td>\n",
       "    </tr>\n",
       "    <tr>\n",
       "      <th>78</th>\n",
       "      <td>C2241900</td>\n",
       "      <td>4477.0</td>\n",
       "      <td>4803.0</td>\n",
       "      <td>9387.0</td>\n",
       "      <td>11974.0</td>\n",
       "      <td>19149.0</td>\n",
       "      <td>14612.0</td>\n",
       "      <td>3741.0</td>\n",
       "      <td>1142.0</td>\n",
       "      <td>11069.0</td>\n",
       "      <td>5306.0</td>\n",
       "      <td>0.0</td>\n",
       "      <td>0.0</td>\n",
       "    </tr>\n",
       "    <tr>\n",
       "      <th>...</th>\n",
       "      <td>...</td>\n",
       "      <td>...</td>\n",
       "      <td>...</td>\n",
       "      <td>...</td>\n",
       "      <td>...</td>\n",
       "      <td>...</td>\n",
       "      <td>...</td>\n",
       "      <td>...</td>\n",
       "      <td>...</td>\n",
       "      <td>...</td>\n",
       "      <td>...</td>\n",
       "      <td>...</td>\n",
       "      <td>...</td>\n",
       "    </tr>\n",
       "    <tr>\n",
       "      <th>2937</th>\n",
       "      <td>BI000251</td>\n",
       "      <td>11240.0</td>\n",
       "      <td>4576.0</td>\n",
       "      <td>5255.0</td>\n",
       "      <td>5701.0</td>\n",
       "      <td>3219.0</td>\n",
       "      <td>21.0</td>\n",
       "      <td>78.0</td>\n",
       "      <td>105.0</td>\n",
       "      <td>38.0</td>\n",
       "      <td>148.0</td>\n",
       "      <td>109.0</td>\n",
       "      <td>96.0</td>\n",
       "    </tr>\n",
       "    <tr>\n",
       "      <th>2956</th>\n",
       "      <td>ACTAV042</td>\n",
       "      <td>0.0</td>\n",
       "      <td>0.0</td>\n",
       "      <td>0.0</td>\n",
       "      <td>0.0</td>\n",
       "      <td>0.0</td>\n",
       "      <td>0.0</td>\n",
       "      <td>0.0</td>\n",
       "      <td>9055.0</td>\n",
       "      <td>1814.0</td>\n",
       "      <td>4563.0</td>\n",
       "      <td>3408.0</td>\n",
       "      <td>4044.0</td>\n",
       "    </tr>\n",
       "    <tr>\n",
       "      <th>2957</th>\n",
       "      <td>2AK05630</td>\n",
       "      <td>2785.0</td>\n",
       "      <td>1210.0</td>\n",
       "      <td>1945.0</td>\n",
       "      <td>4310.0</td>\n",
       "      <td>4490.0</td>\n",
       "      <td>970.0</td>\n",
       "      <td>2137.0</td>\n",
       "      <td>1290.0</td>\n",
       "      <td>2650.0</td>\n",
       "      <td>1600.0</td>\n",
       "      <td>410.0</td>\n",
       "      <td>2615.0</td>\n",
       "    </tr>\n",
       "    <tr>\n",
       "      <th>2983</th>\n",
       "      <td>RB001603</td>\n",
       "      <td>0.0</td>\n",
       "      <td>1.0</td>\n",
       "      <td>53.0</td>\n",
       "      <td>106.0</td>\n",
       "      <td>90.0</td>\n",
       "      <td>10.0</td>\n",
       "      <td>61.0</td>\n",
       "      <td>2106.0</td>\n",
       "      <td>1316.0</td>\n",
       "      <td>3149.0</td>\n",
       "      <td>4723.0</td>\n",
       "      <td>5084.0</td>\n",
       "    </tr>\n",
       "    <tr>\n",
       "      <th>3003</th>\n",
       "      <td>DM942529</td>\n",
       "      <td>0.0</td>\n",
       "      <td>0.0</td>\n",
       "      <td>0.0</td>\n",
       "      <td>10000.0</td>\n",
       "      <td>0.0</td>\n",
       "      <td>11140.0</td>\n",
       "      <td>0.0</td>\n",
       "      <td>0.0</td>\n",
       "      <td>0.0</td>\n",
       "      <td>0.0</td>\n",
       "      <td>6500.0</td>\n",
       "      <td>0.0</td>\n",
       "    </tr>\n",
       "  </tbody>\n",
       "</table>\n",
       "<p>226 rows × 13 columns</p>\n",
       "</div>"
      ],
      "text/plain": [
       "        SKU_ID     '01'    '02'    '03'     '04'     '05'     '06'    '07'  \\\n",
       "12    FC038348   1874.0  1856.0  2234.0   2136.0   2126.0   2253.0  2080.0   \n",
       "41    BI000161   1201.0  2345.0   527.0    758.0   1503.0    758.0  1162.0   \n",
       "68    GS043189    240.0  2520.0  2112.0  12480.0      0.0   1632.0  3192.0   \n",
       "71    RAK00001   2499.0  1720.0  4996.0   2305.0   3228.0   5141.0  3504.0   \n",
       "78    C2241900   4477.0  4803.0  9387.0  11974.0  19149.0  14612.0  3741.0   \n",
       "...        ...      ...     ...     ...      ...      ...      ...     ...   \n",
       "2937  BI000251  11240.0  4576.0  5255.0   5701.0   3219.0     21.0    78.0   \n",
       "2956  ACTAV042      0.0     0.0     0.0      0.0      0.0      0.0     0.0   \n",
       "2957  2AK05630   2785.0  1210.0  1945.0   4310.0   4490.0    970.0  2137.0   \n",
       "2983  RB001603      0.0     1.0    53.0    106.0     90.0     10.0    61.0   \n",
       "3003  DM942529      0.0     0.0     0.0  10000.0      0.0  11140.0     0.0   \n",
       "\n",
       "        '08'     '09'    '10'    '11'    '12'  \n",
       "12    2475.0   1929.0  2260.0  2286.0  2323.0  \n",
       "41    1462.0   1844.0  1500.0  1880.0  1281.0  \n",
       "68    2592.0   1800.0  4056.0  5352.0  3936.0  \n",
       "71    3714.0   2504.0  2946.0  3411.0  4773.0  \n",
       "78    1142.0  11069.0  5306.0     0.0     0.0  \n",
       "...      ...      ...     ...     ...     ...  \n",
       "2937   105.0     38.0   148.0   109.0    96.0  \n",
       "2956  9055.0   1814.0  4563.0  3408.0  4044.0  \n",
       "2957  1290.0   2650.0  1600.0   410.0  2615.0  \n",
       "2983  2106.0   1316.0  3149.0  4723.0  5084.0  \n",
       "3003     0.0      0.0     0.0  6500.0     0.0  \n",
       "\n",
       "[226 rows x 13 columns]"
      ]
     },
     "execution_count": 84,
     "metadata": {},
     "output_type": "execute_result"
    }
   ],
   "source": [
    "demands"
   ]
  },
  {
   "cell_type": "markdown",
   "metadata": {},
   "source": [
    "### Min Max"
   ]
  },
  {
   "cell_type": "code",
   "execution_count": 17,
   "metadata": {},
   "outputs": [],
   "source": [
    "# get the demands fo the last year and the min,max values\n",
    "# return dictionary when the key is tuple of (sku_id,quarter number) and ......\n",
    "# the value is tuple of (min,max) like - {('FC038348', 1): (27, 54),('FC038348', 2): (296, 592),.....}\n",
    "def MinMax(demands,min,max):\n",
    "    copy = demands.copy()\n",
    "    columns = ['SKU_ID']\n",
    "    for i in range(4):\n",
    "        copy['Min'+str(i+1)] = (copy.iloc[:,i*3+1:i*3+4].mean(axis=1) / 22) * min\n",
    "        copy['Max'+str(i+1)] = (copy.iloc[:,i*3+1:i*3+4].mean(axis=1) / 22) * max\n",
    "        columns += ['Min'+str(i+1),'Max'+str(i+1)]\n",
    "    copy = copy.loc[:,columns]\n",
    "    dic = defaultdict(tuple)\n",
    "    for index, row in copy.iterrows():\n",
    "        for i in range(1,5):\n",
    "            row = list(row)\n",
    "            dic[(row[0],i)] = (row[2*i-1],row[2*i])\n",
    "    return dic"
   ]
  },
  {
   "cell_type": "markdown",
   "metadata": {},
   "source": [
    "### Simulation"
   ]
  },
  {
   "cell_type": "code",
   "execution_count": 18,
   "metadata": {},
   "outputs": [],
   "source": [
    "# transfer 'daily_demands_22' into a dictionary structure\n",
    "daily_demands_22_dic = defaultdict(list)\n",
    "for index, row in daily_demands_22.iterrows():\n",
    "    row = list(row)\n",
    "    daily_demands_22_dic[row[0]] = row[1:]"
   ]
  },
  {
   "cell_type": "code",
   "execution_count": 19,
   "metadata": {},
   "outputs": [],
   "source": [
    "# transfer 'initial_inventory' into a dictionary structure\n",
    "initial_inventory_dic = defaultdict(list)\n",
    "for index, row in initial_inventory.iterrows():\n",
    "    row = list(row)\n",
    "    initial_inventory_dic[row[0]] = row[1]"
   ]
  },
  {
   "cell_type": "code",
   "execution_count": 20,
   "metadata": {},
   "outputs": [],
   "source": [
    "# transfer 'volumes' into a dictionary structure\n",
    "volumes_dic = defaultdict(list)\n",
    "for index, row in volumes.iterrows():\n",
    "    row = list(row)\n",
    "    volumes_dic[row[0]] = row[1]"
   ]
  },
  {
   "cell_type": "code",
   "execution_count": 21,
   "metadata": {},
   "outputs": [],
   "source": [
    "def calc_capacity_per_arkalit(daily_demands_22_dic,volumes_dic,high_volume, low_volume):\n",
    "    dic = defaultdict(dict)\n",
    "    items_sku_ids = list(daily_demands_22_dic.keys())\n",
    "    for item in items_sku_ids:\n",
    "        cur_vol = volumes_dic[item]\n",
    "        dic[item] = {'low_half':int((low_volume/2)/cur_vol), 'low_full':int(low_volume/cur_vol), 'high_half':int((high_volume/2)/cur_vol), 'high_full':int(high_volume/cur_vol)}\n",
    "    return dic\n",
    "capacity_per_arkalit = calc_capacity_per_arkalit(daily_demands_22_dic,volumes_dic,30000, 15000)"
   ]
  },
  {
   "cell_type": "code",
   "execution_count": 22,
   "metadata": {},
   "outputs": [],
   "source": [
    "def calc_initial_inventory(daily_demands_22_dic, initial_inventory, capacity_per_arkalit,arkaliot):\n",
    "    inventory_dic = defaultdict(dict)\n",
    "    items_sku_ids = list(daily_demands_22_dic.keys())\n",
    "    for item in items_sku_ids:\n",
    "        # capacity = capacity_per_arkalit[item][arkalit_type]\n",
    "        inventory = initial_inventory[item]\n",
    "        # required_number_of_arkaliot = math.ceil(inventory/capacity)\n",
    "        options = ['low_half','low_full','high_half','high_full']\n",
    "        effective_options = [k for (k, v) in arkaliot.items() if v >= math.ceil(inventory/capacity_per_arkalit[item][k])]\n",
    "        if not effective_options:\n",
    "            arkalit_type = choice(options)\n",
    "        else:\n",
    "            arkalit_type = choice(effective_options)\n",
    "        arkaliot[arkalit_type] -= math.ceil(inventory/capacity_per_arkalit[item][arkalit_type])\n",
    "        inventory_dic[item] = {i: (inventory if i == arkalit_type else 0) for i in options}\n",
    "    return inventory_dic\n",
    "\n",
    "# arkaliot = {'low_half':2*int(1383) ,'low_full':int(1476), 'high_half':2*int(3251), 'high_full':int(7247)}\n",
    "# calc_initial_inventory = initial_inventory(daily_demands_22_dic, initial_inventory_dic, capacity_per_arkalit,arkaliot)"
   ]
  },
  {
   "cell_type": "code",
   "execution_count": 23,
   "metadata": {},
   "outputs": [],
   "source": [
    "def loading (sku_id,quantity,arkaliot,inventory_dic):\n",
    "    global count_no_space\n",
    "    global count_refresh\n",
    "    effective_options = defaultdict(int)\n",
    "    flag = False\n",
    "    for (arkalit_type, num_of_free_arkaliot) in arkaliot.items():\n",
    "        capacity_of_item_arkalit = capacity_per_arkalit[sku_id][arkalit_type]\n",
    "        num_of_full_arkaliot = int(math.ceil(inventory_dic[sku_id][arkalit_type] / capacity_of_item_arkalit))\n",
    "        total_arkaliot = num_of_free_arkaliot + num_of_full_arkaliot\n",
    "        total_units = total_arkaliot * capacity_of_item_arkalit\n",
    "        total_units_possible = total_units - inventory_dic[sku_id][arkalit_type]\n",
    "        if total_units_possible > 0:\n",
    "            effective_options[arkalit_type] = total_units_possible\n",
    "    while quantity > 0:\n",
    "        if not effective_options:\n",
    "            count_no_space += 1\n",
    "            break\n",
    "        else:\n",
    "            flag = True\n",
    "            arkalit_type = choice(list(effective_options.keys()))\n",
    "            possible_loading = effective_options[arkalit_type]\n",
    "            if possible_loading > quantity:\n",
    "                loading = quantity\n",
    "                quantity = 0\n",
    "                effective_options[arkalit_type] -= loading\n",
    "            else:\n",
    "                loading = possible_loading\n",
    "                quantity -= possible_loading\n",
    "                del effective_options[arkalit_type]\n",
    "\n",
    "            last_inventory = inventory_dic[sku_id][arkalit_type]\n",
    "            new_inventory = last_inventory + loading\n",
    "            capacity = capacity_per_arkalit[sku_id][arkalit_type]\n",
    "            added_arkaliot = int(math.ceil(new_inventory/capacity) - math.ceil(last_inventory/capacity))  \n",
    "                \n",
    "            inventory_dic[sku_id][arkalit_type] = int(new_inventory)   \n",
    "            arkaliot[arkalit_type] -= added_arkaliot\n",
    "    if flag:\n",
    "        count_refresh += 1"
   ]
  },
  {
   "cell_type": "code",
   "execution_count": 25,
   "metadata": {},
   "outputs": [],
   "source": [
    "def pull_out(sku_id,quantity,arkaliot,inventory_dic):\n",
    "    # effective_options = [k for (k, v) in inventory_dic[sku_id].items() if v > 0]\n",
    "    global count_no_inventory\n",
    "    global sum_no_inventory\n",
    "    while quantity > 0:\n",
    "        effective_options = [k for (k, v) in inventory_dic[sku_id].items() if v > 0]\n",
    "        if not effective_options:\n",
    "            count_no_inventory += 1\n",
    "            sum_no_inventory += quantity\n",
    "            break\n",
    "        arkalit_type = choice(effective_options)\n",
    "        inventory = inventory_dic[sku_id][arkalit_type]\n",
    "        capacity = capacity_per_arkalit[sku_id][arkalit_type]\n",
    "        if inventory % capacity == 0:\n",
    "            pull_out = capacity\n",
    "        else:\n",
    "            pull_out = int(inventory % capacity)\n",
    "        if pull_out > quantity:\n",
    "            pull_out = quantity\n",
    "            quantity = 0\n",
    "        else:\n",
    "            quantity -= pull_out\n",
    "            arkaliot[arkalit_type] += 1\n",
    "        inventory_dic[sku_id][arkalit_type] -= int(pull_out)"
   ]
  },
  {
   "cell_type": "code",
   "execution_count": 26,
   "metadata": {},
   "outputs": [],
   "source": [
    "# calc 'others' volume\n",
    "demands_others = pd.read_excel(open('demands21.xlsx', 'rb'))\n",
    "volumes_others = pd.read_excel(\"volume.xlsx\")\n",
    "assuta_items = pd.read_excel(\"Assuta_items.xlsx\")\n",
    "\n",
    "demands_others.fillna(0,inplace = True)\n",
    "volumes_others = volumes_others.iloc[:,:2]\n",
    "volumes_others.rename(columns = {f'{volumes_others.columns[1]}':'volume'}, inplace = True)\n",
    "assuta_items = pd.DataFrame(assuta_items.iloc[:,0])\n",
    "\n",
    "demands_others = demands_others[~demands_others.SKU_ID.isin(list(demands.SKU_ID))]\n",
    "demands_others = demands_others[~demands_others[\"SKU_ID\"].isin(assuta_items[\"SKU_ID\"])]\n",
    "\n",
    "demands_others['Max'] = (demands_others.mean(axis=1) / 22) * 6\n",
    "df = pd.merge(demands_others, volumes_others, on='SKU_ID', how='left')\n",
    "df = df[['SKU_ID','Max','volume']]\n",
    "low_half_others, low_full_others = (0,0)\n",
    "for index, row in df.iterrows():\n",
    "    arkalit_type = choice(['full','half'])\n",
    "    if row['volume'] > 0:\n",
    "        if arkalit_type == 'full':\n",
    "            low_full_others += int(row['Max']/max(1,math.floor(15000 / row['volume'])))\n",
    "        else:\n",
    "            low_half_others += int(row['Max']/max(1,math.floor(7500 / row['volume'])))"
   ]
  },
  {
   "cell_type": "code",
   "execution_count": 27,
   "metadata": {},
   "outputs": [
    {
     "data": {
      "text/plain": [
       "(3009, 5702)"
      ]
     },
     "execution_count": 27,
     "metadata": {},
     "output_type": "execute_result"
    }
   ],
   "source": [
    "low_full_others,low_half_others"
   ]
  },
  {
   "cell_type": "code",
   "execution_count": 28,
   "metadata": {},
   "outputs": [],
   "source": [
    "# remove the 'others' volume (arkaliot)\n",
    "def remove_other(arkaliot,low_full_others,low_half_others):\n",
    "    if arkaliot['low_half'] < low_half_others:\n",
    "        low_full_others += int(math.ceil(0.5 * (low_half_others - arkaliot['low_half'])))\n",
    "        arkaliot['low_half'] = 0\n",
    "    else:\n",
    "        arkaliot['low_half'] -= low_half_others\n",
    "    if arkaliot['low_full'] < low_full_others:\n",
    "        arkaliot['high_half'] -= low_full_others - arkaliot['low_full']\n",
    "        arkaliot['low_full'] = 0\n",
    "        if arkaliot['high_half'] < 0:\n",
    "            print(arkaliot['high_half'])\n",
    "            arkaliot['high_full'] -= int(math.ceil(0.5 * - arkaliot['high_half']))\n",
    "            arkaliot['high_half'] = 0\n",
    "            if arkaliot['high_full'] < 0:\n",
    "                print('There are no arkaliots left')\n",
    "    else:\n",
    "        arkaliot['low_full'] -= low_full_others\n",
    "\n",
    "\n",
    "# arkaliot = {'low_half':10 ,'low_full':15, 'high_half':1, 'high_full':7}\n",
    "# low_half_others,low_full_others = (9,18)\n",
    "# remove_other(arkaliot,low_full_others,low_half_others)\n",
    "\n",
    "# proportion = 0.98 # the proportion of the OSR that can be uesd\n",
    "# arkaliot = {'low_half':2*int(1383 * proportion) ,'low_full':int(1476 * proportion), 'high_half':2*int(3251 * proportion), 'high_full':int(7247 * proportion)}\n",
    "# remove_other(arkaliot,low_full_others,low_half_others)"
   ]
  },
  {
   "cell_type": "code",
   "execution_count": 29,
   "metadata": {},
   "outputs": [],
   "source": [
    "# # check if there is a free space in a specific type of arkalit\n",
    "# def check_place(sku_id,type_of_arkalit, number_of_units):\n",
    "#     capacity = 6\n",
    "#     # capacity = capacity_per_arkalit[sku_id][type_of_arkalit]\n",
    "#     return (int(number_of_units/capacity),number_of_units%capacity)"
   ]
  },
  {
   "cell_type": "code",
   "execution_count": 30,
   "metadata": {},
   "outputs": [],
   "source": [
    "# proportion = 0.98 # the proportion of the OSR that can be uesd\n",
    "# arkaliot = {'low_half':2*int(1383 * proportion) ,'low_full':int(1476 * proportion), 'high_half':2*int(3251 * proportion), 'high_full':int(7247 * proportion)}\n",
    "# remove_other(arkaliot,low_full_others,low_half_others)\n",
    "\n",
    "# inventory_dic = calc_initial_inventory(daily_demands_22_dic, initial_inventory_dic, capacity_per_arkalit,arkaliot)\n",
    "\n",
    "# c=0\n",
    "# for i,j in inventory_dic.items():\n",
    "#     for k in j.values():\n",
    "#         if isinstance(k, float):\n",
    "#             c+=1\n",
    "# c"
   ]
  },
  {
   "cell_type": "code",
   "execution_count": 31,
   "metadata": {},
   "outputs": [],
   "source": [
    "# inventory_dic"
   ]
  },
  {
   "cell_type": "code",
   "execution_count": 32,
   "metadata": {},
   "outputs": [],
   "source": [
    "# capacity_per_arkalit['2CK13811']"
   ]
  },
  {
   "cell_type": "code",
   "execution_count": 33,
   "metadata": {},
   "outputs": [],
   "source": [
    "# inventory_dic['2CK13811']"
   ]
  },
  {
   "cell_type": "code",
   "execution_count": 34,
   "metadata": {},
   "outputs": [],
   "source": [
    "# arkaliot"
   ]
  },
  {
   "cell_type": "code",
   "execution_count": 35,
   "metadata": {},
   "outputs": [],
   "source": [
    "# loading ('2CK13811',10,arkaliot,inventory_dic)\n",
    "# inventory_dic"
   ]
  },
  {
   "cell_type": "code",
   "execution_count": 36,
   "metadata": {},
   "outputs": [],
   "source": [
    "# inventory_dic"
   ]
  },
  {
   "cell_type": "code",
   "execution_count": 37,
   "metadata": {},
   "outputs": [],
   "source": [
    "# arkaliot"
   ]
  },
  {
   "cell_type": "code",
   "execution_count": 38,
   "metadata": {},
   "outputs": [],
   "source": [
    "# pull_out('2CK13811',71,arkaliot,inventory_dic)\n",
    "# inventory_dic"
   ]
  },
  {
   "cell_type": "code",
   "execution_count": 39,
   "metadata": {},
   "outputs": [],
   "source": [
    "# arkaliot"
   ]
  },
  {
   "cell_type": "code",
   "execution_count": 40,
   "metadata": {},
   "outputs": [],
   "source": [
    "def simulation (daily_demands:dict,initial_inventory:dict,volumes:dict,minmax:dict,capacity_per_arkalit:dict):\n",
    "    \n",
    "    days = len(daily_demands[list(daily_demands.keys())[0]]) # number of days we will run through\n",
    "    items_sku_ids = list(daily_demands.keys()) # list of sku ids\n",
    "    refresf_dic = {item:False for item in items_sku_ids} # initialize a dictionary with 'False' value for each sku id\n",
    "    \n",
    "    current_day = 0 # holds the day number in each iteration \n",
    "    current_quarter = 1 # holds the quarter number in each iteration\n",
    "    \n",
    "    global count_no_space\n",
    "    global count_no_inventory\n",
    "    global sum_no_inventory\n",
    "    global count_refresh\n",
    "    count_no_space = 0 # counter of times we have exceeded the storage capacity\n",
    "    count_no_inventory = 0 # counter of times we dont have enough inventory to pull out\n",
    "    sum_no_inventory = 0 # how many units in total we couldnt pull out\n",
    "    count_refresh = 0 # counter of refreshes\n",
    "    \n",
    "    proportion = 0.98 # the proportion of the OSR that can be uesd\n",
    "    arkaliot = {'low_half':2*int(1383 * proportion) ,'low_full':int(1476 * proportion), 'high_half':2*int(3251 * proportion), 'high_full':int(7247 * proportion)}\n",
    "    remove_other(arkaliot,low_full_others,low_half_others)\n",
    "    \n",
    "    inventory_dic = calc_initial_inventory(daily_demands, initial_inventory, capacity_per_arkalit,arkaliot)\n",
    "    \n",
    "    for day in range(days): # go through all days\n",
    "        total_volume = 0 # sum up the volumes per day\n",
    "        for item in items_sku_ids: # go through all items\n",
    "            if refresf_dic[item]: # check if refresh is required for the specific item\n",
    "                curr_inventory = sum(inventory_dic[item].values()) # current inventory\n",
    "                new_inventory = minmax[(item,current_quarter)][1] # refresh to maximum\n",
    "                loading(item,new_inventory-curr_inventory,arkaliot,inventory_dic)\n",
    "                refresf_dic[item] = False # after refreshing, change again the refresh requirement into 'False' \n",
    "            # item_volume = initial_inventory[item] * volumes[item] # calc the item volume based on the existing inventory and the volume per unit\n",
    "            # total_volume += item_volume # add the item volume to the total volume\n",
    "            \n",
    "            pull_out(item,daily_demands[item][day],arkaliot,inventory_dic) # update the inventory\n",
    "\n",
    "            if sum(inventory_dic[item].values()) < minmax[(item,current_quarter)][0]: # check if inventory is less than the minimum\n",
    "                refresf_dic[item] = True # change  the refresh requirement into 'True' \n",
    "                # count_refresh += 1 # add 1 to the refreshes counter\n",
    "\n",
    "        current_day += 1 # update the day counter\n",
    "        if current_day <= 89: current_quarter = 1 # change the quarter according to the day \n",
    "        elif current_day <= 180: current_quarter = 2 # change the quarter according to the day\n",
    "        elif current_day <= 272: current_quarter = 3 # change the quarter according to the day\n",
    "        else: current_quarter = 4 # change the quarter according to the day\n",
    "    return count_refresh,count_no_space,count_no_inventory,int(sum_no_inventory)"
   ]
  },
  {
   "cell_type": "code",
   "execution_count": 42,
   "metadata": {},
   "outputs": [],
   "source": [
    "# daily_demands_22_dic_copy = daily_demands_22_dic.copy()\n",
    "# initial_inventory_dic_copy = initial_inventory_dic.copy()\n",
    "# volumes_dic_copy = volumes_dic.copy()\n",
    "# minmax = MinMax(demands,3,6)\n",
    "# minmax_copy = minmax.copy()\n",
    "# simulation(daily_demands_22_dic_copy,initial_inventory_dic_copy,volumes_dic_copy,minmax_copy,capacity_per_arkalit)"
   ]
  },
  {
   "cell_type": "markdown",
   "metadata": {},
   "source": [
    "# Comparison"
   ]
  },
  {
   "cell_type": "code",
   "execution_count": 45,
   "metadata": {},
   "outputs": [
    {
     "name": "stdout",
     "output_type": "stream",
     "text": [
      "[((3, 6), (3, 6))]\n"
     ]
    },
    {
     "name": "stderr",
     "output_type": "stream",
     "text": [
      "100%|██████████| 1/1 [00:02<00:00,  2.47s/it]\n",
      "100%|██████████| 1/1 [00:02<00:00,  2.49s/it]\n"
     ]
    }
   ],
   "source": [
    "min_options = [3,4]\n",
    "max_options = [4,5,6,8,10,12,15,18,21,24]\n",
    "under_10_minmax_options = [(i,j) for i in min_options for j in max_options if j > i and j <= 5] # 3 options\n",
    "under_minmax_dic = {k:MinMax(demands,k[0],k[1]) for k in under_10_minmax_options}\n",
    "over_10_minmax_options = [(i,j) for i in min_options for j in max_options if j > i and j >= 6] # 16 options\n",
    "over_minmax_dic = {k:MinMax(demands,k[0],k[1]) for k in over_10_minmax_options}\n",
    "\n",
    "under_10_minmax_options = [(i,j) for i in under_10_minmax_options for j in under_10_minmax_options] # 9 (3^2) options\n",
    "over_10_minmax_options = [(i,j) for i in over_10_minmax_options for j in over_10_minmax_options] # 256 (16^2) options\n",
    "\n",
    "from tqdm import tqdm\n",
    "results = []\n",
    "for under in tqdm(under_10_minmax_options):\n",
    "    Q1_under_minmax = under[0]\n",
    "    Q2_under_minmax = under[1]\n",
    "    dic1 = {k:under_minmax_dic[Q1_under_minmax][k] for k in under_minmax_dic[Q1_under_minmax].keys() if k[1] == 1}\n",
    "    dic2 = {k:under_minmax_dic[Q2_under_minmax][k] for k in under_minmax_dic[Q2_under_minmax].keys() if k[1] == 2}\n",
    "    merge_dic_12 = dic1 | dic2\n",
    "    merge_dic_under = {k:merge_dic_12[k] for k in merge_dic_12.keys() if k[0] in sku_ids_0to95}\n",
    "    for over in tqdm(over_10_minmax_options):\n",
    "        Q1_over_minmax = over[0]\n",
    "        Q2_over_minmax = over[1]\n",
    "        dic3 = {k:over_minmax_dic[Q1_over_minmax][k] for k in over_minmax_dic[Q1_over_minmax].keys() if k[1] == 1}\n",
    "        dic4 = {k:over_minmax_dic[Q2_over_minmax][k] for k in over_minmax_dic[Q2_over_minmax].keys() if k[1] == 2}\n",
    "        merge_dic_34 = dic3 | dic4\n",
    "        merge_dic_over = {k:merge_dic_34[k] for k in merge_dic_34.keys() if k[0] in sku_ids_over105}\n",
    "        \n",
    "        minmax = merge_dic_12 | merge_dic_34\n",
    "        \n",
    "        daily_demands_22_dic_copy = daily_demands_22_dic.copy()\n",
    "        initial_inventory_dic_copy = initial_inventory_dic.copy()\n",
    "        volumes_dic_copy = volumes_dic.copy()\n",
    "        minmax_copy = minmax.copy()\n",
    "        result = simulation(daily_demands_22_dic_copy,initial_inventory_dic_copy,volumes_dic_copy,minmax_copy,capacity_per_arkalit)\n",
    "        results.append((Q1_under_minmax,Q2_under_minmax,Q1_over_minmax,Q2_over_minmax,result[0],result[1],result[2],result[3]))"
   ]
  },
  {
   "cell_type": "code",
   "execution_count": 41,
   "metadata": {},
   "outputs": [
    {
     "data": {
      "text/html": [
       "<div>\n",
       "<style scoped>\n",
       "    .dataframe tbody tr th:only-of-type {\n",
       "        vertical-align: middle;\n",
       "    }\n",
       "\n",
       "    .dataframe tbody tr th {\n",
       "        vertical-align: top;\n",
       "    }\n",
       "\n",
       "    .dataframe thead th {\n",
       "        text-align: right;\n",
       "    }\n",
       "</style>\n",
       "<table border=\"1\" class=\"dataframe\">\n",
       "  <thead>\n",
       "    <tr style=\"text-align: right;\">\n",
       "      <th></th>\n",
       "      <th>MinMax of Q1 (under 10)</th>\n",
       "      <th>MinMax of Q2 (under 10)</th>\n",
       "      <th>MinMax of Q1 (over 10)</th>\n",
       "      <th>MinMax of Q2 (over 10)</th>\n",
       "      <th>No. of refreshes</th>\n",
       "      <th>No. of no space</th>\n",
       "      <th>No. of no inventory</th>\n",
       "      <th>sum of missing units</th>\n",
       "    </tr>\n",
       "  </thead>\n",
       "  <tbody>\n",
       "    <tr>\n",
       "      <th>0</th>\n",
       "      <td>(3, 4)</td>\n",
       "      <td>(3, 4)</td>\n",
       "      <td>(3, 6)</td>\n",
       "      <td>(3, 6)</td>\n",
       "      <td>7829</td>\n",
       "      <td>0</td>\n",
       "      <td>1752</td>\n",
       "      <td>344051</td>\n",
       "    </tr>\n",
       "    <tr>\n",
       "      <th>1</th>\n",
       "      <td>(3, 4)</td>\n",
       "      <td>(3, 4)</td>\n",
       "      <td>(3, 6)</td>\n",
       "      <td>(3, 8)</td>\n",
       "      <td>6657</td>\n",
       "      <td>0</td>\n",
       "      <td>1702</td>\n",
       "      <td>329841</td>\n",
       "    </tr>\n",
       "    <tr>\n",
       "      <th>2</th>\n",
       "      <td>(3, 4)</td>\n",
       "      <td>(3, 4)</td>\n",
       "      <td>(3, 6)</td>\n",
       "      <td>(3, 10)</td>\n",
       "      <td>6052</td>\n",
       "      <td>0</td>\n",
       "      <td>1659</td>\n",
       "      <td>321482</td>\n",
       "    </tr>\n",
       "    <tr>\n",
       "      <th>3</th>\n",
       "      <td>(3, 4)</td>\n",
       "      <td>(3, 4)</td>\n",
       "      <td>(3, 6)</td>\n",
       "      <td>(3, 12)</td>\n",
       "      <td>5705</td>\n",
       "      <td>0</td>\n",
       "      <td>1637</td>\n",
       "      <td>318780</td>\n",
       "    </tr>\n",
       "    <tr>\n",
       "      <th>4</th>\n",
       "      <td>(3, 4)</td>\n",
       "      <td>(3, 4)</td>\n",
       "      <td>(3, 6)</td>\n",
       "      <td>(3, 15)</td>\n",
       "      <td>5374</td>\n",
       "      <td>0</td>\n",
       "      <td>1616</td>\n",
       "      <td>309000</td>\n",
       "    </tr>\n",
       "    <tr>\n",
       "      <th>...</th>\n",
       "      <td>...</td>\n",
       "      <td>...</td>\n",
       "      <td>...</td>\n",
       "      <td>...</td>\n",
       "      <td>...</td>\n",
       "      <td>...</td>\n",
       "      <td>...</td>\n",
       "      <td>...</td>\n",
       "    </tr>\n",
       "    <tr>\n",
       "      <th>2299</th>\n",
       "      <td>(4, 5)</td>\n",
       "      <td>(4, 5)</td>\n",
       "      <td>(4, 24)</td>\n",
       "      <td>(4, 12)</td>\n",
       "      <td>2556</td>\n",
       "      <td>0</td>\n",
       "      <td>1234</td>\n",
       "      <td>223945</td>\n",
       "    </tr>\n",
       "    <tr>\n",
       "      <th>2300</th>\n",
       "      <td>(4, 5)</td>\n",
       "      <td>(4, 5)</td>\n",
       "      <td>(4, 24)</td>\n",
       "      <td>(4, 15)</td>\n",
       "      <td>2208</td>\n",
       "      <td>0</td>\n",
       "      <td>1227</td>\n",
       "      <td>220266</td>\n",
       "    </tr>\n",
       "    <tr>\n",
       "      <th>2301</th>\n",
       "      <td>(4, 5)</td>\n",
       "      <td>(4, 5)</td>\n",
       "      <td>(4, 24)</td>\n",
       "      <td>(4, 18)</td>\n",
       "      <td>1998</td>\n",
       "      <td>0</td>\n",
       "      <td>1215</td>\n",
       "      <td>217882</td>\n",
       "    </tr>\n",
       "    <tr>\n",
       "      <th>2302</th>\n",
       "      <td>(4, 5)</td>\n",
       "      <td>(4, 5)</td>\n",
       "      <td>(4, 24)</td>\n",
       "      <td>(4, 21)</td>\n",
       "      <td>1857</td>\n",
       "      <td>0</td>\n",
       "      <td>1212</td>\n",
       "      <td>219043</td>\n",
       "    </tr>\n",
       "    <tr>\n",
       "      <th>2303</th>\n",
       "      <td>(4, 5)</td>\n",
       "      <td>(4, 5)</td>\n",
       "      <td>(4, 24)</td>\n",
       "      <td>(4, 24)</td>\n",
       "      <td>1768</td>\n",
       "      <td>0</td>\n",
       "      <td>1202</td>\n",
       "      <td>217975</td>\n",
       "    </tr>\n",
       "  </tbody>\n",
       "</table>\n",
       "<p>2304 rows × 8 columns</p>\n",
       "</div>"
      ],
      "text/plain": [
       "     MinMax of Q1 (under 10) MinMax of Q2 (under 10) MinMax of Q1 (over 10)  \\\n",
       "0                     (3, 4)                  (3, 4)                 (3, 6)   \n",
       "1                     (3, 4)                  (3, 4)                 (3, 6)   \n",
       "2                     (3, 4)                  (3, 4)                 (3, 6)   \n",
       "3                     (3, 4)                  (3, 4)                 (3, 6)   \n",
       "4                     (3, 4)                  (3, 4)                 (3, 6)   \n",
       "...                      ...                     ...                    ...   \n",
       "2299                  (4, 5)                  (4, 5)                (4, 24)   \n",
       "2300                  (4, 5)                  (4, 5)                (4, 24)   \n",
       "2301                  (4, 5)                  (4, 5)                (4, 24)   \n",
       "2302                  (4, 5)                  (4, 5)                (4, 24)   \n",
       "2303                  (4, 5)                  (4, 5)                (4, 24)   \n",
       "\n",
       "     MinMax of Q2 (over 10)  No. of refreshes  No. of no space  \\\n",
       "0                    (3, 6)              7829                0   \n",
       "1                    (3, 8)              6657                0   \n",
       "2                   (3, 10)              6052                0   \n",
       "3                   (3, 12)              5705                0   \n",
       "4                   (3, 15)              5374                0   \n",
       "...                     ...               ...              ...   \n",
       "2299                (4, 12)              2556                0   \n",
       "2300                (4, 15)              2208                0   \n",
       "2301                (4, 18)              1998                0   \n",
       "2302                (4, 21)              1857                0   \n",
       "2303                (4, 24)              1768                0   \n",
       "\n",
       "      No. of no inventory  sum of missing units  \n",
       "0                    1752                344051  \n",
       "1                    1702                329841  \n",
       "2                    1659                321482  \n",
       "3                    1637                318780  \n",
       "4                    1616                309000  \n",
       "...                   ...                   ...  \n",
       "2299                 1234                223945  \n",
       "2300                 1227                220266  \n",
       "2301                 1215                217882  \n",
       "2302                 1212                219043  \n",
       "2303                 1202                217975  \n",
       "\n",
       "[2304 rows x 8 columns]"
      ]
     },
     "execution_count": 41,
     "metadata": {},
     "output_type": "execute_result"
    }
   ],
   "source": [
    "df = pd.DataFrame(results, columns=['MinMax of Q1 (under 10)', 'MinMax of Q2 (under 10)','MinMax of Q1 (over 10)', 'MinMax of Q2 (over 10)','No. of refreshes','No. of no space','No. of no inventory','sum of missing units'])\n",
    "df"
   ]
  },
  {
   "cell_type": "code",
   "execution_count": 42,
   "metadata": {},
   "outputs": [],
   "source": [
    "df.to_csv('results1.csv', index=False)"
   ]
  },
  {
   "cell_type": "markdown",
   "metadata": {},
   "source": [
    "### ------------------------"
   ]
  },
  {
   "cell_type": "markdown",
   "metadata": {},
   "source": [
    "### Finish"
   ]
  },
  {
   "cell_type": "markdown",
   "metadata": {},
   "source": [
    "### ------------------------"
   ]
  }
 ],
 "metadata": {
  "kernelspec": {
   "display_name": "Python 3.9.13 64-bit (windows store)",
   "language": "python",
   "name": "python3"
  },
  "language_info": {
   "codemirror_mode": {
    "name": "ipython",
    "version": 3
   },
   "file_extension": ".py",
   "mimetype": "text/x-python",
   "name": "python",
   "nbconvert_exporter": "python",
   "pygments_lexer": "ipython3",
   "version": "3.9.13"
  },
  "orig_nbformat": 4,
  "vscode": {
   "interpreter": {
    "hash": "75bb06568c9d6172a953bbe8382d76fb637459502578ff2e7618bebf03e08899"
   }
  }
 },
 "nbformat": 4,
 "nbformat_minor": 2
}
